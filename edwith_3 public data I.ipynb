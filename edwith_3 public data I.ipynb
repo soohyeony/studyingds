{
 "cells": [
  {
   "cell_type": "markdown",
   "metadata": {},
   "source": [
    "### 1.1 라이브러리 불러오기"
   ]
  },
  {
   "cell_type": "code",
   "execution_count": 4,
   "metadata": {},
   "outputs": [],
   "source": [
    "# dataframe - pandas, 수치계산-numpy, 시각화-seaborn\n",
    "import pandas as pd\n",
    "import numpy as np\n",
    "import seaborn as sns"
   ]
  },
  {
   "cell_type": "markdown",
   "metadata": {},
   "source": [
    "### 1.2 시각화를 위한 폰트 설정"
   ]
  },
  {
   "cell_type": "code",
   "execution_count": 5,
   "metadata": {},
   "outputs": [],
   "source": [
    "# ctrl + / : 주석처리\n",
    "import matplotlib.pyplot as plt\n",
    "plt.rc('font',family='Malgun Gothic')"
   ]
  },
  {
   "cell_type": "code",
   "execution_count": 6,
   "metadata": {},
   "outputs": [],
   "source": [
    "# 폰트를 선명하게 보이기 위해\n",
    "from IPython.display import set_matplotlib_formats\n",
    "set_matplotlib_formats('retina')"
   ]
  },
  {
   "cell_type": "markdown",
   "metadata": {},
   "source": [
    "### 1.3 데이터 로드하기"
   ]
  },
  {
   "cell_type": "code",
   "execution_count": 7,
   "metadata": {},
   "outputs": [
    {
     "data": {
      "text/plain": [
       "(91335, 39)"
      ]
     },
     "execution_count": 7,
     "metadata": {},
     "output_type": "execute_result"
    }
   ],
   "source": [
    "# read 입력 후 tab키를 누르면 메소드를 확인할 수  있다.\n",
    "df = pd.read_csv(\"data/소상공인시장진흥공단_상가업소정보_의료기관_201909.csv\", low_memory=False)\n",
    "\n",
    "# 행렬(데이터) 갯수 확인\n",
    "df.shape"
   ]
  },
  {
   "cell_type": "markdown",
   "metadata": {},
   "source": [
    "### 1.4 데이터 미리보기"
   ]
  },
  {
   "cell_type": "code",
   "execution_count": 8,
   "metadata": {
    "scrolled": true
   },
   "outputs": [
    {
     "data": {
      "text/html": [
       "<div>\n",
       "<style scoped>\n",
       "    .dataframe tbody tr th:only-of-type {\n",
       "        vertical-align: middle;\n",
       "    }\n",
       "\n",
       "    .dataframe tbody tr th {\n",
       "        vertical-align: top;\n",
       "    }\n",
       "\n",
       "    .dataframe thead th {\n",
       "        text-align: right;\n",
       "    }\n",
       "</style>\n",
       "<table border=\"1\" class=\"dataframe\">\n",
       "  <thead>\n",
       "    <tr style=\"text-align: right;\">\n",
       "      <th></th>\n",
       "      <th>상가업소번호</th>\n",
       "      <th>상호명</th>\n",
       "      <th>지점명</th>\n",
       "      <th>상권업종대분류코드</th>\n",
       "      <th>상권업종대분류명</th>\n",
       "      <th>상권업종중분류코드</th>\n",
       "      <th>상권업종중분류명</th>\n",
       "      <th>상권업종소분류코드</th>\n",
       "      <th>상권업종소분류명</th>\n",
       "      <th>표준산업분류코드</th>\n",
       "      <th>...</th>\n",
       "      <th>건물관리번호</th>\n",
       "      <th>건물명</th>\n",
       "      <th>도로명주소</th>\n",
       "      <th>구우편번호</th>\n",
       "      <th>신우편번호</th>\n",
       "      <th>동정보</th>\n",
       "      <th>층정보</th>\n",
       "      <th>호정보</th>\n",
       "      <th>경도</th>\n",
       "      <th>위도</th>\n",
       "    </tr>\n",
       "  </thead>\n",
       "  <tbody>\n",
       "    <tr>\n",
       "      <td>0</td>\n",
       "      <td>19956873</td>\n",
       "      <td>하나산부인과</td>\n",
       "      <td>NaN</td>\n",
       "      <td>S</td>\n",
       "      <td>의료</td>\n",
       "      <td>S01</td>\n",
       "      <td>병원</td>\n",
       "      <td>S01B10</td>\n",
       "      <td>산부인과</td>\n",
       "      <td>Q86201</td>\n",
       "      <td>...</td>\n",
       "      <td>4127310900110810000010857</td>\n",
       "      <td>산호한양아파트</td>\n",
       "      <td>경기도 안산시 단원구 달미로 10</td>\n",
       "      <td>425764.0</td>\n",
       "      <td>15236.0</td>\n",
       "      <td>NaN</td>\n",
       "      <td>NaN</td>\n",
       "      <td>NaN</td>\n",
       "      <td>126.814295</td>\n",
       "      <td>37.336344</td>\n",
       "    </tr>\n",
       "    <tr>\n",
       "      <td>1</td>\n",
       "      <td>20024149</td>\n",
       "      <td>타워광명내과의원</td>\n",
       "      <td>NaN</td>\n",
       "      <td>S</td>\n",
       "      <td>의료</td>\n",
       "      <td>S01</td>\n",
       "      <td>병원</td>\n",
       "      <td>S01B07</td>\n",
       "      <td>내과/외과</td>\n",
       "      <td>Q86201</td>\n",
       "      <td>...</td>\n",
       "      <td>1168011800104670014000001</td>\n",
       "      <td>NaN</td>\n",
       "      <td>서울특별시 강남구 언주로30길 39</td>\n",
       "      <td>135270.0</td>\n",
       "      <td>6292.0</td>\n",
       "      <td>NaN</td>\n",
       "      <td>4</td>\n",
       "      <td>NaN</td>\n",
       "      <td>127.053198</td>\n",
       "      <td>37.488742</td>\n",
       "    </tr>\n",
       "    <tr>\n",
       "      <td>2</td>\n",
       "      <td>20152277</td>\n",
       "      <td>조정현신경외과의원</td>\n",
       "      <td>NaN</td>\n",
       "      <td>S</td>\n",
       "      <td>의료</td>\n",
       "      <td>S01</td>\n",
       "      <td>병원</td>\n",
       "      <td>S01B15</td>\n",
       "      <td>신경외과</td>\n",
       "      <td>Q86201</td>\n",
       "      <td>...</td>\n",
       "      <td>4139013200117400001017064</td>\n",
       "      <td>한라프라자</td>\n",
       "      <td>경기도 시흥시 중심상가로 178</td>\n",
       "      <td>429450.0</td>\n",
       "      <td>15066.0</td>\n",
       "      <td>NaN</td>\n",
       "      <td>NaN</td>\n",
       "      <td>NaN</td>\n",
       "      <td>126.734841</td>\n",
       "      <td>37.344955</td>\n",
       "    </tr>\n",
       "  </tbody>\n",
       "</table>\n",
       "<p>3 rows × 39 columns</p>\n",
       "</div>"
      ],
      "text/plain": [
       "     상가업소번호        상호명  지점명 상권업종대분류코드 상권업종대분류명 상권업종중분류코드 상권업종중분류명 상권업종소분류코드  \\\n",
       "0  19956873     하나산부인과  NaN         S       의료       S01       병원    S01B10   \n",
       "1  20024149   타워광명내과의원  NaN         S       의료       S01       병원    S01B07   \n",
       "2  20152277  조정현신경외과의원  NaN         S       의료       S01       병원    S01B15   \n",
       "\n",
       "  상권업종소분류명 표준산업분류코드  ...                     건물관리번호      건물명  \\\n",
       "0     산부인과   Q86201  ...  4127310900110810000010857  산호한양아파트   \n",
       "1    내과/외과   Q86201  ...  1168011800104670014000001      NaN   \n",
       "2     신경외과   Q86201  ...  4139013200117400001017064    한라프라자   \n",
       "\n",
       "                 도로명주소     구우편번호    신우편번호  동정보  층정보  호정보          경도  \\\n",
       "0   경기도 안산시 단원구 달미로 10  425764.0  15236.0  NaN  NaN  NaN  126.814295   \n",
       "1  서울특별시 강남구 언주로30길 39  135270.0   6292.0  NaN    4  NaN  127.053198   \n",
       "2    경기도 시흥시 중심상가로 178  429450.0  15066.0  NaN  NaN  NaN  126.734841   \n",
       "\n",
       "          위도  \n",
       "0  37.336344  \n",
       "1  37.488742  \n",
       "2  37.344955  \n",
       "\n",
       "[3 rows x 39 columns]"
      ]
     },
     "execution_count": 8,
     "metadata": {},
     "output_type": "execute_result"
    }
   ],
   "source": [
    "# 메소드 입력 후 shift + tab : 공식문서docstring 확인가능\n",
    "# 위에서 5행만 미리보기\n",
    "df.head(3)"
   ]
  },
  {
   "cell_type": "code",
   "execution_count": 9,
   "metadata": {
    "scrolled": true
   },
   "outputs": [
    {
     "data": {
      "text/html": [
       "<div>\n",
       "<style scoped>\n",
       "    .dataframe tbody tr th:only-of-type {\n",
       "        vertical-align: middle;\n",
       "    }\n",
       "\n",
       "    .dataframe tbody tr th {\n",
       "        vertical-align: top;\n",
       "    }\n",
       "\n",
       "    .dataframe thead th {\n",
       "        text-align: right;\n",
       "    }\n",
       "</style>\n",
       "<table border=\"1\" class=\"dataframe\">\n",
       "  <thead>\n",
       "    <tr style=\"text-align: right;\">\n",
       "      <th></th>\n",
       "      <th>상가업소번호</th>\n",
       "      <th>상호명</th>\n",
       "      <th>지점명</th>\n",
       "      <th>상권업종대분류코드</th>\n",
       "      <th>상권업종대분류명</th>\n",
       "      <th>상권업종중분류코드</th>\n",
       "      <th>상권업종중분류명</th>\n",
       "      <th>상권업종소분류코드</th>\n",
       "      <th>상권업종소분류명</th>\n",
       "      <th>표준산업분류코드</th>\n",
       "      <th>...</th>\n",
       "      <th>건물관리번호</th>\n",
       "      <th>건물명</th>\n",
       "      <th>도로명주소</th>\n",
       "      <th>구우편번호</th>\n",
       "      <th>신우편번호</th>\n",
       "      <th>동정보</th>\n",
       "      <th>층정보</th>\n",
       "      <th>호정보</th>\n",
       "      <th>경도</th>\n",
       "      <th>위도</th>\n",
       "    </tr>\n",
       "  </thead>\n",
       "  <tbody>\n",
       "    <tr>\n",
       "      <td>91330</td>\n",
       "      <td>16196725</td>\n",
       "      <td>온누리약국</td>\n",
       "      <td>베스트</td>\n",
       "      <td>S</td>\n",
       "      <td>의료</td>\n",
       "      <td>S02</td>\n",
       "      <td>약국/한약방</td>\n",
       "      <td>S02A01</td>\n",
       "      <td>약국</td>\n",
       "      <td>G47811</td>\n",
       "      <td>...</td>\n",
       "      <td>3017011200115070000021096</td>\n",
       "      <td>NaN</td>\n",
       "      <td>대전광역시 서구 문예로 67</td>\n",
       "      <td>302831.0</td>\n",
       "      <td>35240.0</td>\n",
       "      <td>NaN</td>\n",
       "      <td>NaN</td>\n",
       "      <td>NaN</td>\n",
       "      <td>127.389865</td>\n",
       "      <td>36.352728</td>\n",
       "    </tr>\n",
       "    <tr>\n",
       "      <td>91331</td>\n",
       "      <td>16192180</td>\n",
       "      <td>리원</td>\n",
       "      <td>봄산후조</td>\n",
       "      <td>S</td>\n",
       "      <td>의료</td>\n",
       "      <td>S07</td>\n",
       "      <td>의료관련서비스업</td>\n",
       "      <td>S07A07</td>\n",
       "      <td>산후조리원</td>\n",
       "      <td>S96993</td>\n",
       "      <td>...</td>\n",
       "      <td>4128112300111460000011715</td>\n",
       "      <td>청한프라자</td>\n",
       "      <td>경기도 고양시 덕양구 성신로 14</td>\n",
       "      <td>412827.0</td>\n",
       "      <td>10503.0</td>\n",
       "      <td>NaN</td>\n",
       "      <td>NaN</td>\n",
       "      <td>NaN</td>\n",
       "      <td>126.830144</td>\n",
       "      <td>37.627530</td>\n",
       "    </tr>\n",
       "    <tr>\n",
       "      <td>91332</td>\n",
       "      <td>16127538</td>\n",
       "      <td>참좋은요양병원</td>\n",
       "      <td>NaN</td>\n",
       "      <td>S</td>\n",
       "      <td>의료</td>\n",
       "      <td>S01</td>\n",
       "      <td>병원</td>\n",
       "      <td>S01B17</td>\n",
       "      <td>노인/치매병원</td>\n",
       "      <td>Q86102</td>\n",
       "      <td>...</td>\n",
       "      <td>2641010800105380001005572</td>\n",
       "      <td>한신시티빌</td>\n",
       "      <td>부산광역시 금정구 금강로 209</td>\n",
       "      <td>609841.0</td>\n",
       "      <td>46294.0</td>\n",
       "      <td>NaN</td>\n",
       "      <td>2</td>\n",
       "      <td>NaN</td>\n",
       "      <td>129.082790</td>\n",
       "      <td>35.227138</td>\n",
       "    </tr>\n",
       "    <tr>\n",
       "      <td>91333</td>\n",
       "      <td>16108681</td>\n",
       "      <td>경희중앙한의원</td>\n",
       "      <td>NaN</td>\n",
       "      <td>S</td>\n",
       "      <td>의료</td>\n",
       "      <td>S01</td>\n",
       "      <td>병원</td>\n",
       "      <td>S01B06</td>\n",
       "      <td>한의원</td>\n",
       "      <td>Q86203</td>\n",
       "      <td>...</td>\n",
       "      <td>1174010500103450009002392</td>\n",
       "      <td>NaN</td>\n",
       "      <td>서울특별시 강동구 천중로 213</td>\n",
       "      <td>134811.0</td>\n",
       "      <td>5303.0</td>\n",
       "      <td>NaN</td>\n",
       "      <td>NaN</td>\n",
       "      <td>NaN</td>\n",
       "      <td>127.143958</td>\n",
       "      <td>37.540993</td>\n",
       "    </tr>\n",
       "    <tr>\n",
       "      <td>91334</td>\n",
       "      <td>16109073</td>\n",
       "      <td>천안김안과천안역본점의원</td>\n",
       "      <td>NaN</td>\n",
       "      <td>S</td>\n",
       "      <td>의료</td>\n",
       "      <td>S01</td>\n",
       "      <td>병원</td>\n",
       "      <td>S01B13</td>\n",
       "      <td>안과의원</td>\n",
       "      <td>Q86201</td>\n",
       "      <td>...</td>\n",
       "      <td>4413110700102660017016314</td>\n",
       "      <td>김안과</td>\n",
       "      <td>충청남도 천안시 동남구 중앙로 92</td>\n",
       "      <td>330952.0</td>\n",
       "      <td>31127.0</td>\n",
       "      <td>NaN</td>\n",
       "      <td>NaN</td>\n",
       "      <td>NaN</td>\n",
       "      <td>127.152651</td>\n",
       "      <td>36.806640</td>\n",
       "    </tr>\n",
       "  </tbody>\n",
       "</table>\n",
       "<p>5 rows × 39 columns</p>\n",
       "</div>"
      ],
      "text/plain": [
       "         상가업소번호           상호명   지점명 상권업종대분류코드 상권업종대분류명 상권업종중분류코드  상권업종중분류명  \\\n",
       "91330  16196725         온누리약국   베스트         S       의료       S02    약국/한약방   \n",
       "91331  16192180            리원  봄산후조         S       의료       S07  의료관련서비스업   \n",
       "91332  16127538       참좋은요양병원   NaN         S       의료       S01        병원   \n",
       "91333  16108681       경희중앙한의원   NaN         S       의료       S01        병원   \n",
       "91334  16109073  천안김안과천안역본점의원   NaN         S       의료       S01        병원   \n",
       "\n",
       "      상권업종소분류코드 상권업종소분류명 표준산업분류코드  ...                     건물관리번호    건물명  \\\n",
       "91330    S02A01       약국   G47811  ...  3017011200115070000021096    NaN   \n",
       "91331    S07A07    산후조리원   S96993  ...  4128112300111460000011715  청한프라자   \n",
       "91332    S01B17  노인/치매병원   Q86102  ...  2641010800105380001005572  한신시티빌   \n",
       "91333    S01B06      한의원   Q86203  ...  1174010500103450009002392    NaN   \n",
       "91334    S01B13     안과의원   Q86201  ...  4413110700102660017016314    김안과   \n",
       "\n",
       "                     도로명주소     구우편번호    신우편번호  동정보  층정보  호정보          경도  \\\n",
       "91330      대전광역시 서구 문예로 67  302831.0  35240.0  NaN  NaN  NaN  127.389865   \n",
       "91331   경기도 고양시 덕양구 성신로 14  412827.0  10503.0  NaN  NaN  NaN  126.830144   \n",
       "91332    부산광역시 금정구 금강로 209  609841.0  46294.0  NaN    2  NaN  129.082790   \n",
       "91333    서울특별시 강동구 천중로 213  134811.0   5303.0  NaN  NaN  NaN  127.143958   \n",
       "91334  충청남도 천안시 동남구 중앙로 92  330952.0  31127.0  NaN  NaN  NaN  127.152651   \n",
       "\n",
       "              위도  \n",
       "91330  36.352728  \n",
       "91331  37.627530  \n",
       "91332  35.227138  \n",
       "91333  37.540993  \n",
       "91334  36.806640  \n",
       "\n",
       "[5 rows x 39 columns]"
      ]
     },
     "execution_count": 9,
     "metadata": {},
     "output_type": "execute_result"
    }
   ],
   "source": [
    "# 가장 아래 행부터 위로 미리보기\n",
    "df.tail()"
   ]
  },
  {
   "cell_type": "markdown",
   "metadata": {},
   "source": [
    "### 1.5 데이터 요약하기\n",
    "\n",
    "#### 1.5.1 요약정보"
   ]
  },
  {
   "cell_type": "code",
   "execution_count": 10,
   "metadata": {},
   "outputs": [
    {
     "name": "stdout",
     "output_type": "stream",
     "text": [
      "<class 'pandas.core.frame.DataFrame'>\n",
      "RangeIndex: 91335 entries, 0 to 91334\n",
      "Data columns (total 39 columns):\n",
      "상가업소번호       91335 non-null int64\n",
      "상호명          91335 non-null object\n",
      "지점명          1346 non-null object\n",
      "상권업종대분류코드    91335 non-null object\n",
      "상권업종대분류명     91335 non-null object\n",
      "상권업종중분류코드    91335 non-null object\n",
      "상권업종중분류명     91335 non-null object\n",
      "상권업종소분류코드    91335 non-null object\n",
      "상권업종소분류명     91335 non-null object\n",
      "표준산업분류코드     86413 non-null object\n",
      "표준산업분류명      86413 non-null object\n",
      "시도코드         90956 non-null float64\n",
      "시도명          90956 non-null object\n",
      "시군구코드        90956 non-null float64\n",
      "시군구명         90956 non-null object\n",
      "행정동코드        91335 non-null int64\n",
      "행정동명         90956 non-null object\n",
      "법정동코드        91280 non-null float64\n",
      "법정동명         91280 non-null object\n",
      "지번코드         91335 non-null int64\n",
      "대지구분코드       91335 non-null int64\n",
      "대지구분명        91335 non-null object\n",
      "지번본번지        91335 non-null int64\n",
      "지번부번지        72079 non-null float64\n",
      "지번주소         91335 non-null object\n",
      "도로명코드        91335 non-null int64\n",
      "도로명          91335 non-null object\n",
      "건물본번지        91335 non-null int64\n",
      "건물부번지        10604 non-null float64\n",
      "건물관리번호       91335 non-null object\n",
      "건물명          46453 non-null object\n",
      "도로명주소        91335 non-null object\n",
      "구우편번호        91323 non-null float64\n",
      "신우편번호        91333 non-null float64\n",
      "동정보          7406 non-null object\n",
      "층정보          44044 non-null object\n",
      "호정보          15551 non-null object\n",
      "경도           91335 non-null float64\n",
      "위도           91335 non-null float64\n",
      "dtypes: float64(9), int64(7), object(23)\n",
      "memory usage: 27.2+ MB\n"
     ]
    }
   ],
   "source": [
    "df.info()"
   ]
  },
  {
   "cell_type": "code",
   "execution_count": 11,
   "metadata": {},
   "outputs": [
    {
     "data": {
      "text/plain": [
       "Index(['상가업소번호', '상호명', '지점명', '상권업종대분류코드', '상권업종대분류명', '상권업종중분류코드',\n",
       "       '상권업종중분류명', '상권업종소분류코드', '상권업종소분류명', '표준산업분류코드', '표준산업분류명', '시도코드',\n",
       "       '시도명', '시군구코드', '시군구명', '행정동코드', '행정동명', '법정동코드', '법정동명', '지번코드',\n",
       "       '대지구분코드', '대지구분명', '지번본번지', '지번부번지', '지번주소', '도로명코드', '도로명', '건물본번지',\n",
       "       '건물부번지', '건물관리번호', '건물명', '도로명주소', '구우편번호', '신우편번호', '동정보', '층정보',\n",
       "       '호정보', '경도', '위도'],\n",
       "      dtype='object')"
      ]
     },
     "execution_count": 11,
     "metadata": {},
     "output_type": "execute_result"
    }
   ],
   "source": [
    "# 컬럼보기\n",
    "df.columns"
   ]
  },
  {
   "cell_type": "code",
   "execution_count": 12,
   "metadata": {},
   "outputs": [
    {
     "data": {
      "text/plain": [
       "상가업소번호         int64\n",
       "상호명           object\n",
       "지점명           object\n",
       "상권업종대분류코드     object\n",
       "상권업종대분류명      object\n",
       "상권업종중분류코드     object\n",
       "상권업종중분류명      object\n",
       "상권업종소분류코드     object\n",
       "상권업종소분류명      object\n",
       "표준산업분류코드      object\n",
       "표준산업분류명       object\n",
       "시도코드         float64\n",
       "시도명           object\n",
       "시군구코드        float64\n",
       "시군구명          object\n",
       "행정동코드          int64\n",
       "행정동명          object\n",
       "법정동코드        float64\n",
       "법정동명          object\n",
       "지번코드           int64\n",
       "대지구분코드         int64\n",
       "대지구분명         object\n",
       "지번본번지          int64\n",
       "지번부번지        float64\n",
       "지번주소          object\n",
       "도로명코드          int64\n",
       "도로명           object\n",
       "건물본번지          int64\n",
       "건물부번지        float64\n",
       "건물관리번호        object\n",
       "건물명           object\n",
       "도로명주소         object\n",
       "구우편번호        float64\n",
       "신우편번호        float64\n",
       "동정보           object\n",
       "층정보           object\n",
       "호정보           object\n",
       "경도           float64\n",
       "위도           float64\n",
       "dtype: object"
      ]
     },
     "execution_count": 12,
     "metadata": {},
     "output_type": "execute_result"
    }
   ],
   "source": [
    "# 데이터 타입만 출력하기\n",
    "df.dtypes"
   ]
  },
  {
   "cell_type": "markdown",
   "metadata": {},
   "source": [
    "### 1.6 결측치"
   ]
  },
  {
   "cell_type": "code",
   "execution_count": 13,
   "metadata": {},
   "outputs": [
    {
     "data": {
      "text/html": [
       "<div>\n",
       "<style scoped>\n",
       "    .dataframe tbody tr th:only-of-type {\n",
       "        vertical-align: middle;\n",
       "    }\n",
       "\n",
       "    .dataframe tbody tr th {\n",
       "        vertical-align: top;\n",
       "    }\n",
       "\n",
       "    .dataframe thead th {\n",
       "        text-align: right;\n",
       "    }\n",
       "</style>\n",
       "<table border=\"1\" class=\"dataframe\">\n",
       "  <thead>\n",
       "    <tr style=\"text-align: right;\">\n",
       "      <th></th>\n",
       "      <th>상가업소번호</th>\n",
       "      <th>상호명</th>\n",
       "      <th>지점명</th>\n",
       "      <th>상권업종대분류코드</th>\n",
       "      <th>상권업종대분류명</th>\n",
       "      <th>상권업종중분류코드</th>\n",
       "      <th>상권업종중분류명</th>\n",
       "      <th>상권업종소분류코드</th>\n",
       "      <th>상권업종소분류명</th>\n",
       "      <th>표준산업분류코드</th>\n",
       "      <th>...</th>\n",
       "      <th>건물관리번호</th>\n",
       "      <th>건물명</th>\n",
       "      <th>도로명주소</th>\n",
       "      <th>구우편번호</th>\n",
       "      <th>신우편번호</th>\n",
       "      <th>동정보</th>\n",
       "      <th>층정보</th>\n",
       "      <th>호정보</th>\n",
       "      <th>경도</th>\n",
       "      <th>위도</th>\n",
       "    </tr>\n",
       "  </thead>\n",
       "  <tbody>\n",
       "    <tr>\n",
       "      <td>0</td>\n",
       "      <td>False</td>\n",
       "      <td>False</td>\n",
       "      <td>True</td>\n",
       "      <td>False</td>\n",
       "      <td>False</td>\n",
       "      <td>False</td>\n",
       "      <td>False</td>\n",
       "      <td>False</td>\n",
       "      <td>False</td>\n",
       "      <td>False</td>\n",
       "      <td>...</td>\n",
       "      <td>False</td>\n",
       "      <td>False</td>\n",
       "      <td>False</td>\n",
       "      <td>False</td>\n",
       "      <td>False</td>\n",
       "      <td>True</td>\n",
       "      <td>True</td>\n",
       "      <td>True</td>\n",
       "      <td>False</td>\n",
       "      <td>False</td>\n",
       "    </tr>\n",
       "    <tr>\n",
       "      <td>1</td>\n",
       "      <td>False</td>\n",
       "      <td>False</td>\n",
       "      <td>True</td>\n",
       "      <td>False</td>\n",
       "      <td>False</td>\n",
       "      <td>False</td>\n",
       "      <td>False</td>\n",
       "      <td>False</td>\n",
       "      <td>False</td>\n",
       "      <td>False</td>\n",
       "      <td>...</td>\n",
       "      <td>False</td>\n",
       "      <td>True</td>\n",
       "      <td>False</td>\n",
       "      <td>False</td>\n",
       "      <td>False</td>\n",
       "      <td>True</td>\n",
       "      <td>False</td>\n",
       "      <td>True</td>\n",
       "      <td>False</td>\n",
       "      <td>False</td>\n",
       "    </tr>\n",
       "    <tr>\n",
       "      <td>2</td>\n",
       "      <td>False</td>\n",
       "      <td>False</td>\n",
       "      <td>True</td>\n",
       "      <td>False</td>\n",
       "      <td>False</td>\n",
       "      <td>False</td>\n",
       "      <td>False</td>\n",
       "      <td>False</td>\n",
       "      <td>False</td>\n",
       "      <td>False</td>\n",
       "      <td>...</td>\n",
       "      <td>False</td>\n",
       "      <td>False</td>\n",
       "      <td>False</td>\n",
       "      <td>False</td>\n",
       "      <td>False</td>\n",
       "      <td>True</td>\n",
       "      <td>True</td>\n",
       "      <td>True</td>\n",
       "      <td>False</td>\n",
       "      <td>False</td>\n",
       "    </tr>\n",
       "    <tr>\n",
       "      <td>3</td>\n",
       "      <td>False</td>\n",
       "      <td>False</td>\n",
       "      <td>True</td>\n",
       "      <td>False</td>\n",
       "      <td>False</td>\n",
       "      <td>False</td>\n",
       "      <td>False</td>\n",
       "      <td>False</td>\n",
       "      <td>False</td>\n",
       "      <td>True</td>\n",
       "      <td>...</td>\n",
       "      <td>False</td>\n",
       "      <td>True</td>\n",
       "      <td>False</td>\n",
       "      <td>False</td>\n",
       "      <td>False</td>\n",
       "      <td>True</td>\n",
       "      <td>False</td>\n",
       "      <td>True</td>\n",
       "      <td>False</td>\n",
       "      <td>False</td>\n",
       "    </tr>\n",
       "    <tr>\n",
       "      <td>4</td>\n",
       "      <td>False</td>\n",
       "      <td>False</td>\n",
       "      <td>False</td>\n",
       "      <td>False</td>\n",
       "      <td>False</td>\n",
       "      <td>False</td>\n",
       "      <td>False</td>\n",
       "      <td>False</td>\n",
       "      <td>False</td>\n",
       "      <td>False</td>\n",
       "      <td>...</td>\n",
       "      <td>False</td>\n",
       "      <td>True</td>\n",
       "      <td>False</td>\n",
       "      <td>False</td>\n",
       "      <td>False</td>\n",
       "      <td>True</td>\n",
       "      <td>False</td>\n",
       "      <td>True</td>\n",
       "      <td>False</td>\n",
       "      <td>False</td>\n",
       "    </tr>\n",
       "    <tr>\n",
       "      <td>...</td>\n",
       "      <td>...</td>\n",
       "      <td>...</td>\n",
       "      <td>...</td>\n",
       "      <td>...</td>\n",
       "      <td>...</td>\n",
       "      <td>...</td>\n",
       "      <td>...</td>\n",
       "      <td>...</td>\n",
       "      <td>...</td>\n",
       "      <td>...</td>\n",
       "      <td>...</td>\n",
       "      <td>...</td>\n",
       "      <td>...</td>\n",
       "      <td>...</td>\n",
       "      <td>...</td>\n",
       "      <td>...</td>\n",
       "      <td>...</td>\n",
       "      <td>...</td>\n",
       "      <td>...</td>\n",
       "      <td>...</td>\n",
       "      <td>...</td>\n",
       "    </tr>\n",
       "    <tr>\n",
       "      <td>91330</td>\n",
       "      <td>False</td>\n",
       "      <td>False</td>\n",
       "      <td>False</td>\n",
       "      <td>False</td>\n",
       "      <td>False</td>\n",
       "      <td>False</td>\n",
       "      <td>False</td>\n",
       "      <td>False</td>\n",
       "      <td>False</td>\n",
       "      <td>False</td>\n",
       "      <td>...</td>\n",
       "      <td>False</td>\n",
       "      <td>True</td>\n",
       "      <td>False</td>\n",
       "      <td>False</td>\n",
       "      <td>False</td>\n",
       "      <td>True</td>\n",
       "      <td>True</td>\n",
       "      <td>True</td>\n",
       "      <td>False</td>\n",
       "      <td>False</td>\n",
       "    </tr>\n",
       "    <tr>\n",
       "      <td>91331</td>\n",
       "      <td>False</td>\n",
       "      <td>False</td>\n",
       "      <td>False</td>\n",
       "      <td>False</td>\n",
       "      <td>False</td>\n",
       "      <td>False</td>\n",
       "      <td>False</td>\n",
       "      <td>False</td>\n",
       "      <td>False</td>\n",
       "      <td>False</td>\n",
       "      <td>...</td>\n",
       "      <td>False</td>\n",
       "      <td>False</td>\n",
       "      <td>False</td>\n",
       "      <td>False</td>\n",
       "      <td>False</td>\n",
       "      <td>True</td>\n",
       "      <td>True</td>\n",
       "      <td>True</td>\n",
       "      <td>False</td>\n",
       "      <td>False</td>\n",
       "    </tr>\n",
       "    <tr>\n",
       "      <td>91332</td>\n",
       "      <td>False</td>\n",
       "      <td>False</td>\n",
       "      <td>True</td>\n",
       "      <td>False</td>\n",
       "      <td>False</td>\n",
       "      <td>False</td>\n",
       "      <td>False</td>\n",
       "      <td>False</td>\n",
       "      <td>False</td>\n",
       "      <td>False</td>\n",
       "      <td>...</td>\n",
       "      <td>False</td>\n",
       "      <td>False</td>\n",
       "      <td>False</td>\n",
       "      <td>False</td>\n",
       "      <td>False</td>\n",
       "      <td>True</td>\n",
       "      <td>False</td>\n",
       "      <td>True</td>\n",
       "      <td>False</td>\n",
       "      <td>False</td>\n",
       "    </tr>\n",
       "    <tr>\n",
       "      <td>91333</td>\n",
       "      <td>False</td>\n",
       "      <td>False</td>\n",
       "      <td>True</td>\n",
       "      <td>False</td>\n",
       "      <td>False</td>\n",
       "      <td>False</td>\n",
       "      <td>False</td>\n",
       "      <td>False</td>\n",
       "      <td>False</td>\n",
       "      <td>False</td>\n",
       "      <td>...</td>\n",
       "      <td>False</td>\n",
       "      <td>True</td>\n",
       "      <td>False</td>\n",
       "      <td>False</td>\n",
       "      <td>False</td>\n",
       "      <td>True</td>\n",
       "      <td>True</td>\n",
       "      <td>True</td>\n",
       "      <td>False</td>\n",
       "      <td>False</td>\n",
       "    </tr>\n",
       "    <tr>\n",
       "      <td>91334</td>\n",
       "      <td>False</td>\n",
       "      <td>False</td>\n",
       "      <td>True</td>\n",
       "      <td>False</td>\n",
       "      <td>False</td>\n",
       "      <td>False</td>\n",
       "      <td>False</td>\n",
       "      <td>False</td>\n",
       "      <td>False</td>\n",
       "      <td>False</td>\n",
       "      <td>...</td>\n",
       "      <td>False</td>\n",
       "      <td>False</td>\n",
       "      <td>False</td>\n",
       "      <td>False</td>\n",
       "      <td>False</td>\n",
       "      <td>True</td>\n",
       "      <td>True</td>\n",
       "      <td>True</td>\n",
       "      <td>False</td>\n",
       "      <td>False</td>\n",
       "    </tr>\n",
       "  </tbody>\n",
       "</table>\n",
       "<p>91335 rows × 39 columns</p>\n",
       "</div>"
      ],
      "text/plain": [
       "       상가업소번호    상호명    지점명  상권업종대분류코드  상권업종대분류명  상권업종중분류코드  상권업종중분류명  \\\n",
       "0       False  False   True      False     False      False     False   \n",
       "1       False  False   True      False     False      False     False   \n",
       "2       False  False   True      False     False      False     False   \n",
       "3       False  False   True      False     False      False     False   \n",
       "4       False  False  False      False     False      False     False   \n",
       "...       ...    ...    ...        ...       ...        ...       ...   \n",
       "91330   False  False  False      False     False      False     False   \n",
       "91331   False  False  False      False     False      False     False   \n",
       "91332   False  False   True      False     False      False     False   \n",
       "91333   False  False   True      False     False      False     False   \n",
       "91334   False  False   True      False     False      False     False   \n",
       "\n",
       "       상권업종소분류코드  상권업종소분류명  표준산업분류코드  ...  건물관리번호    건물명  도로명주소  구우편번호  신우편번호  \\\n",
       "0          False     False     False  ...   False  False  False  False  False   \n",
       "1          False     False     False  ...   False   True  False  False  False   \n",
       "2          False     False     False  ...   False  False  False  False  False   \n",
       "3          False     False      True  ...   False   True  False  False  False   \n",
       "4          False     False     False  ...   False   True  False  False  False   \n",
       "...          ...       ...       ...  ...     ...    ...    ...    ...    ...   \n",
       "91330      False     False     False  ...   False   True  False  False  False   \n",
       "91331      False     False     False  ...   False  False  False  False  False   \n",
       "91332      False     False     False  ...   False  False  False  False  False   \n",
       "91333      False     False     False  ...   False   True  False  False  False   \n",
       "91334      False     False     False  ...   False  False  False  False  False   \n",
       "\n",
       "        동정보    층정보   호정보     경도     위도  \n",
       "0      True   True  True  False  False  \n",
       "1      True  False  True  False  False  \n",
       "2      True   True  True  False  False  \n",
       "3      True  False  True  False  False  \n",
       "4      True  False  True  False  False  \n",
       "...     ...    ...   ...    ...    ...  \n",
       "91330  True   True  True  False  False  \n",
       "91331  True   True  True  False  False  \n",
       "91332  True  False  True  False  False  \n",
       "91333  True   True  True  False  False  \n",
       "91334  True   True  True  False  False  \n",
       "\n",
       "[91335 rows x 39 columns]"
      ]
     },
     "execution_count": 13,
     "metadata": {},
     "output_type": "execute_result"
    }
   ],
   "source": [
    "df.isnull()"
   ]
  },
  {
   "cell_type": "code",
   "execution_count": 14,
   "metadata": {},
   "outputs": [
    {
     "data": {
      "text/plain": [
       "상가업소번호           0\n",
       "상호명              0\n",
       "지점명          89989\n",
       "상권업종대분류코드        0\n",
       "상권업종대분류명         0\n",
       "상권업종중분류코드        0\n",
       "상권업종중분류명         0\n",
       "상권업종소분류코드        0\n",
       "상권업종소분류명         0\n",
       "표준산업분류코드      4922\n",
       "표준산업분류명       4922\n",
       "시도코드           379\n",
       "시도명            379\n",
       "시군구코드          379\n",
       "시군구명           379\n",
       "행정동코드            0\n",
       "행정동명           379\n",
       "법정동코드           55\n",
       "법정동명            55\n",
       "지번코드             0\n",
       "대지구분코드           0\n",
       "대지구분명            0\n",
       "지번본번지            0\n",
       "지번부번지        19256\n",
       "지번주소             0\n",
       "도로명코드            0\n",
       "도로명              0\n",
       "건물본번지            0\n",
       "건물부번지        80731\n",
       "건물관리번호           0\n",
       "건물명          44882\n",
       "도로명주소            0\n",
       "구우편번호           12\n",
       "신우편번호            2\n",
       "동정보          83929\n",
       "층정보          47291\n",
       "호정보          75784\n",
       "경도               0\n",
       "위도               0\n",
       "dtype: int64"
      ]
     },
     "execution_count": 14,
     "metadata": {},
     "output_type": "execute_result"
    }
   ],
   "source": [
    "# 결측치의 갯수 구하기\n",
    "null_count = df.isnull().sum()\n",
    "null_count"
   ]
  },
  {
   "cell_type": "code",
   "execution_count": 15,
   "metadata": {},
   "outputs": [
    {
     "data": {
      "text/plain": [
       "<matplotlib.axes._subplots.AxesSubplot at 0x1f026006548>"
      ]
     },
     "execution_count": 15,
     "metadata": {},
     "output_type": "execute_result"
    },
    {
     "data": {
      "image/png": "[encoded data removed]",
      "text/plain": [
       "<Figure size 432x288 with 1 Axes>"
      ]
     },
     "metadata": {
      "image/png": {
       "height": 249,
       "width": 383
      },
      "needs_background": "light"
     },
     "output_type": "display_data"
    }
   ],
   "source": [
    "# 결측치를 막대그래프로 표현\n",
    "null_count.plot()"
   ]
  },
  {
   "cell_type": "code",
   "execution_count": 16,
   "metadata": {
    "scrolled": true
   },
   "outputs": [
    {
     "data": {
      "text/plain": [
       "<matplotlib.axes._subplots.AxesSubplot at 0x1f02609dd48>"
      ]
     },
     "execution_count": 16,
     "metadata": {},
     "output_type": "execute_result"
    },
    {
     "data": {
      "image/png": "[encoded data removed]",
      "text/plain": [
       "<Figure size 432x288 with 1 Axes>"
      ]
     },
     "metadata": {
      "image/png": {
       "height": 292,
       "width": 390
      },
      "needs_background": "light"
     },
     "output_type": "display_data"
    }
   ],
   "source": [
    "# rot=30, x축의 글씨를 30도로 돌려서 나타냄\n",
    "null_count.plot.bar(rot=30)"
   ]
  },
  {
   "cell_type": "code",
   "execution_count": 17,
   "metadata": {},
   "outputs": [
    {
     "data": {
      "text/plain": [
       "<matplotlib.axes._subplots.AxesSubplot at 0x1f026232448>"
      ]
     },
     "execution_count": 17,
     "metadata": {},
     "output_type": "execute_result"
    },
    {
     "data": {
      "image/png": "[encoded data removed]",
      "text/plain": [
       "<Figure size 360x504 with 1 Axes>"
      ]
     },
     "metadata": {
      "image/png": {
       "height": 412,
       "width": 390
      },
      "needs_background": "light"
     },
     "output_type": "display_data"
    }
   ],
   "source": [
    "# figsize=(5,7) : 그래프 사이즈 지정\n",
    "null_count.plot.barh(figsize=(5,7))"
   ]
  },
  {
   "cell_type": "code",
   "execution_count": 18,
   "metadata": {
    "scrolled": true
   },
   "outputs": [
    {
     "data": {
      "text/html": [
       "<div>\n",
       "<style scoped>\n",
       "    .dataframe tbody tr th:only-of-type {\n",
       "        vertical-align: middle;\n",
       "    }\n",
       "\n",
       "    .dataframe tbody tr th {\n",
       "        vertical-align: top;\n",
       "    }\n",
       "\n",
       "    .dataframe thead th {\n",
       "        text-align: right;\n",
       "    }\n",
       "</style>\n",
       "<table border=\"1\" class=\"dataframe\">\n",
       "  <thead>\n",
       "    <tr style=\"text-align: right;\">\n",
       "      <th></th>\n",
       "      <th>index</th>\n",
       "      <th>0</th>\n",
       "    </tr>\n",
       "  </thead>\n",
       "  <tbody>\n",
       "    <tr>\n",
       "      <td>0</td>\n",
       "      <td>상가업소번호</td>\n",
       "      <td>0</td>\n",
       "    </tr>\n",
       "    <tr>\n",
       "      <td>1</td>\n",
       "      <td>상호명</td>\n",
       "      <td>0</td>\n",
       "    </tr>\n",
       "    <tr>\n",
       "      <td>2</td>\n",
       "      <td>지점명</td>\n",
       "      <td>89989</td>\n",
       "    </tr>\n",
       "    <tr>\n",
       "      <td>3</td>\n",
       "      <td>상권업종대분류코드</td>\n",
       "      <td>0</td>\n",
       "    </tr>\n",
       "    <tr>\n",
       "      <td>4</td>\n",
       "      <td>상권업종대분류명</td>\n",
       "      <td>0</td>\n",
       "    </tr>\n",
       "  </tbody>\n",
       "</table>\n",
       "</div>"
      ],
      "text/plain": [
       "       index      0\n",
       "0     상가업소번호      0\n",
       "1        상호명      0\n",
       "2        지점명  89989\n",
       "3  상권업종대분류코드      0\n",
       "4   상권업종대분류명      0"
      ]
     },
     "execution_count": 18,
     "metadata": {},
     "output_type": "execute_result"
    }
   ],
   "source": [
    "# 위에서 계산한 결측치 수를 reset_index를 통해 데이터프레임으로 만들어 줌\n",
    "# df_null_count 변수에 결과를 담아 head로 미리보기\n",
    "\n",
    "df_null_count = null_count.reset_index()\n",
    "df_null_count.head()"
   ]
  },
  {
   "cell_type": "markdown",
   "metadata": {},
   "source": [
    "### 1.7 컬럼명 변경하기"
   ]
  },
  {
   "cell_type": "code",
   "execution_count": 19,
   "metadata": {},
   "outputs": [
    {
     "data": {
      "text/html": [
       "<div>\n",
       "<style scoped>\n",
       "    .dataframe tbody tr th:only-of-type {\n",
       "        vertical-align: middle;\n",
       "    }\n",
       "\n",
       "    .dataframe tbody tr th {\n",
       "        vertical-align: top;\n",
       "    }\n",
       "\n",
       "    .dataframe thead th {\n",
       "        text-align: right;\n",
       "    }\n",
       "</style>\n",
       "<table border=\"1\" class=\"dataframe\">\n",
       "  <thead>\n",
       "    <tr style=\"text-align: right;\">\n",
       "      <th></th>\n",
       "      <th>컬럼명</th>\n",
       "      <th>결측치수</th>\n",
       "    </tr>\n",
       "  </thead>\n",
       "  <tbody>\n",
       "    <tr>\n",
       "      <td>0</td>\n",
       "      <td>상가업소번호</td>\n",
       "      <td>0</td>\n",
       "    </tr>\n",
       "    <tr>\n",
       "      <td>1</td>\n",
       "      <td>상호명</td>\n",
       "      <td>0</td>\n",
       "    </tr>\n",
       "    <tr>\n",
       "      <td>2</td>\n",
       "      <td>지점명</td>\n",
       "      <td>89989</td>\n",
       "    </tr>\n",
       "    <tr>\n",
       "      <td>3</td>\n",
       "      <td>상권업종대분류코드</td>\n",
       "      <td>0</td>\n",
       "    </tr>\n",
       "    <tr>\n",
       "      <td>4</td>\n",
       "      <td>상권업종대분류명</td>\n",
       "      <td>0</td>\n",
       "    </tr>\n",
       "  </tbody>\n",
       "</table>\n",
       "</div>"
      ],
      "text/plain": [
       "         컬럼명   결측치수\n",
       "0     상가업소번호      0\n",
       "1        상호명      0\n",
       "2        지점명  89989\n",
       "3  상권업종대분류코드      0\n",
       "4   상권업종대분류명      0"
      ]
     },
     "execution_count": 19,
     "metadata": {},
     "output_type": "execute_result"
    }
   ],
   "source": [
    "df_null_count.columns = [\"컬럼명\", \"결측치수\"]\n",
    "df_null_count.head()"
   ]
  },
  {
   "cell_type": "markdown",
   "metadata": {},
   "source": [
    "### 1.8 정렬하기\n",
    "\n",
    "* 결측치 수가 가장 많은 컬럼을 조회하여,  \n",
    "* 결측치만 담은 데이터를 데이터프레임으로 만들어  \n",
    "* 전체 데이터프레임에서 제외drop한다."
   ]
  },
  {
   "cell_type": "code",
   "execution_count": 20,
   "metadata": {},
   "outputs": [
    {
     "data": {
      "text/html": [
       "<div>\n",
       "<style scoped>\n",
       "    .dataframe tbody tr th:only-of-type {\n",
       "        vertical-align: middle;\n",
       "    }\n",
       "\n",
       "    .dataframe tbody tr th {\n",
       "        vertical-align: top;\n",
       "    }\n",
       "\n",
       "    .dataframe thead th {\n",
       "        text-align: right;\n",
       "    }\n",
       "</style>\n",
       "<table border=\"1\" class=\"dataframe\">\n",
       "  <thead>\n",
       "    <tr style=\"text-align: right;\">\n",
       "      <th></th>\n",
       "      <th>컬럼명</th>\n",
       "      <th>결측치수</th>\n",
       "    </tr>\n",
       "  </thead>\n",
       "  <tbody>\n",
       "    <tr>\n",
       "      <td>2</td>\n",
       "      <td>지점명</td>\n",
       "      <td>89989</td>\n",
       "    </tr>\n",
       "    <tr>\n",
       "      <td>34</td>\n",
       "      <td>동정보</td>\n",
       "      <td>83929</td>\n",
       "    </tr>\n",
       "    <tr>\n",
       "      <td>28</td>\n",
       "      <td>건물부번지</td>\n",
       "      <td>80731</td>\n",
       "    </tr>\n",
       "    <tr>\n",
       "      <td>36</td>\n",
       "      <td>호정보</td>\n",
       "      <td>75784</td>\n",
       "    </tr>\n",
       "    <tr>\n",
       "      <td>35</td>\n",
       "      <td>층정보</td>\n",
       "      <td>47291</td>\n",
       "    </tr>\n",
       "    <tr>\n",
       "      <td>30</td>\n",
       "      <td>건물명</td>\n",
       "      <td>44882</td>\n",
       "    </tr>\n",
       "    <tr>\n",
       "      <td>23</td>\n",
       "      <td>지번부번지</td>\n",
       "      <td>19256</td>\n",
       "    </tr>\n",
       "    <tr>\n",
       "      <td>9</td>\n",
       "      <td>표준산업분류코드</td>\n",
       "      <td>4922</td>\n",
       "    </tr>\n",
       "    <tr>\n",
       "      <td>10</td>\n",
       "      <td>표준산업분류명</td>\n",
       "      <td>4922</td>\n",
       "    </tr>\n",
       "    <tr>\n",
       "      <td>11</td>\n",
       "      <td>시도코드</td>\n",
       "      <td>379</td>\n",
       "    </tr>\n",
       "  </tbody>\n",
       "</table>\n",
       "</div>"
      ],
      "text/plain": [
       "         컬럼명   결측치수\n",
       "2        지점명  89989\n",
       "34       동정보  83929\n",
       "28     건물부번지  80731\n",
       "36       호정보  75784\n",
       "35       층정보  47291\n",
       "30       건물명  44882\n",
       "23     지번부번지  19256\n",
       "9   표준산업분류코드   4922\n",
       "10   표준산업분류명   4922\n",
       "11      시도코드    379"
      ]
     },
     "execution_count": 20,
     "metadata": {},
     "output_type": "execute_result"
    }
   ],
   "source": [
    "# 결측치 수가 많은 순서대로 상위 10개만 출력\n",
    "df_null_count_top = df_null_count.sort_values(by=\"결측치수\", ascending=False).head(10)\n",
    "df_null_count_top"
   ]
  },
  {
   "cell_type": "markdown",
   "metadata": {},
   "source": [
    "\n",
    "### 1.9 특정 컬럼만 불러오기"
   ]
  },
  {
   "cell_type": "code",
   "execution_count": 21,
   "metadata": {},
   "outputs": [
    {
     "data": {
      "text/plain": [
       "0    NaN\n",
       "1    NaN\n",
       "2    NaN\n",
       "3    NaN\n",
       "4    수지점\n",
       "Name: 지점명, dtype: object"
      ]
     },
     "execution_count": 21,
     "metadata": {},
     "output_type": "execute_result"
    }
   ],
   "source": [
    "# NaN == Not a number로 결측치를 의미한다\n",
    "\n",
    "df[\"지점명\"].head()"
   ]
  },
  {
   "cell_type": "code",
   "execution_count": 22,
   "metadata": {},
   "outputs": [
    {
     "data": {
      "text/plain": [
       "['지점명',\n",
       " '동정보',\n",
       " '건물부번지',\n",
       " '호정보',\n",
       " '층정보',\n",
       " '건물명',\n",
       " '지번부번지',\n",
       " '표준산업분류코드',\n",
       " '표준산업분류명',\n",
       " '시도코드']"
      ]
     },
     "execution_count": 22,
     "metadata": {},
     "output_type": "execute_result"
    }
   ],
   "source": [
    "# 결측치가 많을 경우 분석에 시간이 오래걸릴 수 있다.\n",
    "# 따라서 결측치를 먼저 제외하기도 한다.\n",
    "# tolist() : 리스트로 만들기\n",
    "drop_columns = df_null_count_top[\"컬럼명\"].tolist()\n",
    "drop_columns"
   ]
  },
  {
   "cell_type": "code",
   "execution_count": 23,
   "metadata": {},
   "outputs": [
    {
     "data": {
      "text/html": [
       "<div>\n",
       "<style scoped>\n",
       "    .dataframe tbody tr th:only-of-type {\n",
       "        vertical-align: middle;\n",
       "    }\n",
       "\n",
       "    .dataframe tbody tr th {\n",
       "        vertical-align: top;\n",
       "    }\n",
       "\n",
       "    .dataframe thead th {\n",
       "        text-align: right;\n",
       "    }\n",
       "</style>\n",
       "<table border=\"1\" class=\"dataframe\">\n",
       "  <thead>\n",
       "    <tr style=\"text-align: right;\">\n",
       "      <th></th>\n",
       "      <th>지점명</th>\n",
       "      <th>동정보</th>\n",
       "      <th>건물부번지</th>\n",
       "      <th>호정보</th>\n",
       "      <th>층정보</th>\n",
       "      <th>건물명</th>\n",
       "      <th>지번부번지</th>\n",
       "      <th>표준산업분류코드</th>\n",
       "      <th>표준산업분류명</th>\n",
       "      <th>시도코드</th>\n",
       "    </tr>\n",
       "  </thead>\n",
       "  <tbody>\n",
       "    <tr>\n",
       "      <td>0</td>\n",
       "      <td>NaN</td>\n",
       "      <td>NaN</td>\n",
       "      <td>NaN</td>\n",
       "      <td>NaN</td>\n",
       "      <td>NaN</td>\n",
       "      <td>산호한양아파트</td>\n",
       "      <td>NaN</td>\n",
       "      <td>Q86201</td>\n",
       "      <td>일반 의원</td>\n",
       "      <td>41.0</td>\n",
       "    </tr>\n",
       "    <tr>\n",
       "      <td>1</td>\n",
       "      <td>NaN</td>\n",
       "      <td>NaN</td>\n",
       "      <td>NaN</td>\n",
       "      <td>NaN</td>\n",
       "      <td>4</td>\n",
       "      <td>NaN</td>\n",
       "      <td>14.0</td>\n",
       "      <td>Q86201</td>\n",
       "      <td>일반 의원</td>\n",
       "      <td>11.0</td>\n",
       "    </tr>\n",
       "    <tr>\n",
       "      <td>2</td>\n",
       "      <td>NaN</td>\n",
       "      <td>NaN</td>\n",
       "      <td>NaN</td>\n",
       "      <td>NaN</td>\n",
       "      <td>NaN</td>\n",
       "      <td>한라프라자</td>\n",
       "      <td>1.0</td>\n",
       "      <td>Q86201</td>\n",
       "      <td>일반 의원</td>\n",
       "      <td>41.0</td>\n",
       "    </tr>\n",
       "    <tr>\n",
       "      <td>3</td>\n",
       "      <td>NaN</td>\n",
       "      <td>NaN</td>\n",
       "      <td>NaN</td>\n",
       "      <td>NaN</td>\n",
       "      <td>5</td>\n",
       "      <td>NaN</td>\n",
       "      <td>1.0</td>\n",
       "      <td>NaN</td>\n",
       "      <td>NaN</td>\n",
       "      <td>26.0</td>\n",
       "    </tr>\n",
       "    <tr>\n",
       "      <td>4</td>\n",
       "      <td>수지점</td>\n",
       "      <td>NaN</td>\n",
       "      <td>NaN</td>\n",
       "      <td>NaN</td>\n",
       "      <td>1</td>\n",
       "      <td>NaN</td>\n",
       "      <td>2.0</td>\n",
       "      <td>G47811</td>\n",
       "      <td>의약품 및 의료용품 소매업</td>\n",
       "      <td>41.0</td>\n",
       "    </tr>\n",
       "  </tbody>\n",
       "</table>\n",
       "</div>"
      ],
      "text/plain": [
       "   지점명  동정보  건물부번지  호정보  층정보      건물명  지번부번지 표준산업분류코드         표준산업분류명  시도코드\n",
       "0  NaN  NaN    NaN  NaN  NaN  산호한양아파트    NaN   Q86201           일반 의원  41.0\n",
       "1  NaN  NaN    NaN  NaN    4      NaN   14.0   Q86201           일반 의원  11.0\n",
       "2  NaN  NaN    NaN  NaN  NaN    한라프라자    1.0   Q86201           일반 의원  41.0\n",
       "3  NaN  NaN    NaN  NaN    5      NaN    1.0      NaN             NaN  26.0\n",
       "4  수지점  NaN    NaN  NaN    1      NaN    2.0   G47811  의약품 및 의료용품 소매업  41.0"
      ]
     },
     "execution_count": 23,
     "metadata": {},
     "output_type": "execute_result"
    }
   ],
   "source": [
    "# drop_columns를 변수로 해당 컬럼 정보만 데이터프레임에서 가져온다.\n",
    "df[drop_columns].head()"
   ]
  },
  {
   "cell_type": "markdown",
   "metadata": {},
   "source": [
    "### 1.10 결측치 제거하기"
   ]
  },
  {
   "cell_type": "code",
   "execution_count": 24,
   "metadata": {},
   "outputs": [
    {
     "name": "stdout",
     "output_type": "stream",
     "text": [
      "(91335, 39)\n",
      "(91335, 39)\n"
     ]
    }
   ],
   "source": [
    "# axis=1 컬럼(열)기준으로 드랍, axix=0은 행\n",
    "print(df.shape)\n",
    "df.drop(drop_columns, axis=1)\n",
    "print(df.shape)"
   ]
  },
  {
   "cell_type": "code",
   "execution_count": 25,
   "metadata": {},
   "outputs": [
    {
     "name": "stdout",
     "output_type": "stream",
     "text": [
      "(91335, 39)\n",
      "(91335, 29)\n"
     ]
    }
   ],
   "source": [
    "print(df.shape)\n",
    "# 삭제가 반영되기 위해선 다시 변수에 담아줘야함\n",
    "df = df.drop(drop_columns, axis=1)\n",
    "print(df.shape)"
   ]
  },
  {
   "cell_type": "code",
   "execution_count": 26,
   "metadata": {},
   "outputs": [
    {
     "name": "stdout",
     "output_type": "stream",
     "text": [
      "<class 'pandas.core.frame.DataFrame'>\n",
      "RangeIndex: 91335 entries, 0 to 91334\n",
      "Data columns (total 29 columns):\n",
      "상가업소번호       91335 non-null int64\n",
      "상호명          91335 non-null object\n",
      "상권업종대분류코드    91335 non-null object\n",
      "상권업종대분류명     91335 non-null object\n",
      "상권업종중분류코드    91335 non-null object\n",
      "상권업종중분류명     91335 non-null object\n",
      "상권업종소분류코드    91335 non-null object\n",
      "상권업종소분류명     91335 non-null object\n",
      "시도명          90956 non-null object\n",
      "시군구코드        90956 non-null float64\n",
      "시군구명         90956 non-null object\n",
      "행정동코드        91335 non-null int64\n",
      "행정동명         90956 non-null object\n",
      "법정동코드        91280 non-null float64\n",
      "법정동명         91280 non-null object\n",
      "지번코드         91335 non-null int64\n",
      "대지구분코드       91335 non-null int64\n",
      "대지구분명        91335 non-null object\n",
      "지번본번지        91335 non-null int64\n",
      "지번주소         91335 non-null object\n",
      "도로명코드        91335 non-null int64\n",
      "도로명          91335 non-null object\n",
      "건물본번지        91335 non-null int64\n",
      "건물관리번호       91335 non-null object\n",
      "도로명주소        91335 non-null object\n",
      "구우편번호        91323 non-null float64\n",
      "신우편번호        91333 non-null float64\n",
      "경도           91335 non-null float64\n",
      "위도           91335 non-null float64\n",
      "dtypes: float64(6), int64(7), object(16)\n",
      "memory usage: 20.2+ MB\n"
     ]
    }
   ],
   "source": [
    "# 제거 결과를 info()를 통해 확인\n",
    "# 메모리 결과가 27MB에서 20MB로 줄어든 것을 확인할 수 있다.\n",
    "df.info()"
   ]
  },
  {
   "cell_type": "markdown",
   "metadata": {},
   "source": [
    "### 3.4 수치 데이터 요약하기 - 기술통계 값 보기"
   ]
  },
  {
   "cell_type": "markdown",
   "metadata": {},
   "source": [
    "* 기초 통계 수치"
   ]
  },
  {
   "cell_type": "code",
   "execution_count": 36,
   "metadata": {},
   "outputs": [
    {
     "data": {
      "text/plain": [
       "36.62471119236673"
      ]
     },
     "execution_count": 36,
     "metadata": {},
     "output_type": "execute_result"
    }
   ],
   "source": [
    "# 평균값\n",
    "df[\"위도\"].mean()"
   ]
  },
  {
   "cell_type": "code",
   "execution_count": 40,
   "metadata": {},
   "outputs": [
    {
     "data": {
      "text/plain": [
       "37.23465231770329"
      ]
     },
     "execution_count": 40,
     "metadata": {},
     "output_type": "execute_result"
    }
   ],
   "source": [
    "# 중앙값 - 최소,최대값의 영향을 받지 않는다.\n",
    "df[\"위도\"].median()"
   ]
  },
  {
   "cell_type": "code",
   "execution_count": 39,
   "metadata": {},
   "outputs": [
    {
     "data": {
      "text/plain": [
       "38.499658570559795"
      ]
     },
     "execution_count": 39,
     "metadata": {},
     "output_type": "execute_result"
    }
   ],
   "source": [
    "# 최댓값\n",
    "df[\"위도\"].max()"
   ]
  },
  {
   "cell_type": "code",
   "execution_count": 42,
   "metadata": {},
   "outputs": [
    {
     "data": {
      "text/plain": [
       "33.2192896688307"
      ]
     },
     "execution_count": 42,
     "metadata": {},
     "output_type": "execute_result"
    }
   ],
   "source": [
    "#최솟값\n",
    "df[\"위도\"].min()"
   ]
  },
  {
   "cell_type": "code",
   "execution_count": 44,
   "metadata": {},
   "outputs": [
    {
     "data": {
      "text/plain": [
       "91335"
      ]
     },
     "execution_count": 44,
     "metadata": {},
     "output_type": "execute_result"
    }
   ],
   "source": [
    "# 갯수\n",
    "df[\"위도\"].count()"
   ]
  },
  {
   "cell_type": "markdown",
   "metadata": {},
   "source": [
    "* 기초통계값 요약하기 - describe"
   ]
  },
  {
   "cell_type": "code",
   "execution_count": 46,
   "metadata": {},
   "outputs": [
    {
     "data": {
      "text/plain": [
       "count    91335.000000\n",
       "mean        36.624711\n",
       "std          1.041361\n",
       "min         33.219290\n",
       "25%         35.811830\n",
       "50%         37.234652\n",
       "75%         37.507463\n",
       "max         38.499659\n",
       "Name: 위도, dtype: float64"
      ]
     },
     "execution_count": 46,
     "metadata": {},
     "output_type": "execute_result"
    }
   ],
   "source": [
    "df[\"위도\"].describe()"
   ]
  },
  {
   "cell_type": "code",
   "execution_count": 49,
   "metadata": {},
   "outputs": [
    {
     "data": {
      "text/html": [
       "<div>\n",
       "<style scoped>\n",
       "    .dataframe tbody tr th:only-of-type {\n",
       "        vertical-align: middle;\n",
       "    }\n",
       "\n",
       "    .dataframe tbody tr th {\n",
       "        vertical-align: top;\n",
       "    }\n",
       "\n",
       "    .dataframe thead th {\n",
       "        text-align: right;\n",
       "    }\n",
       "</style>\n",
       "<table border=\"1\" class=\"dataframe\">\n",
       "  <thead>\n",
       "    <tr style=\"text-align: right;\">\n",
       "      <th></th>\n",
       "      <th>위도</th>\n",
       "      <th>경도</th>\n",
       "    </tr>\n",
       "  </thead>\n",
       "  <tbody>\n",
       "    <tr>\n",
       "      <td>0</td>\n",
       "      <td>37.336344</td>\n",
       "      <td>126.814295</td>\n",
       "    </tr>\n",
       "    <tr>\n",
       "      <td>1</td>\n",
       "      <td>37.488742</td>\n",
       "      <td>127.053198</td>\n",
       "    </tr>\n",
       "    <tr>\n",
       "      <td>2</td>\n",
       "      <td>37.344955</td>\n",
       "      <td>126.734841</td>\n",
       "    </tr>\n",
       "    <tr>\n",
       "      <td>3</td>\n",
       "      <td>35.166872</td>\n",
       "      <td>129.115438</td>\n",
       "    </tr>\n",
       "    <tr>\n",
       "      <td>4</td>\n",
       "      <td>37.323528</td>\n",
       "      <td>127.095522</td>\n",
       "    </tr>\n",
       "    <tr>\n",
       "      <td>...</td>\n",
       "      <td>...</td>\n",
       "      <td>...</td>\n",
       "    </tr>\n",
       "    <tr>\n",
       "      <td>91330</td>\n",
       "      <td>36.352728</td>\n",
       "      <td>127.389865</td>\n",
       "    </tr>\n",
       "    <tr>\n",
       "      <td>91331</td>\n",
       "      <td>37.627530</td>\n",
       "      <td>126.830144</td>\n",
       "    </tr>\n",
       "    <tr>\n",
       "      <td>91332</td>\n",
       "      <td>35.227138</td>\n",
       "      <td>129.082790</td>\n",
       "    </tr>\n",
       "    <tr>\n",
       "      <td>91333</td>\n",
       "      <td>37.540993</td>\n",
       "      <td>127.143958</td>\n",
       "    </tr>\n",
       "    <tr>\n",
       "      <td>91334</td>\n",
       "      <td>36.806640</td>\n",
       "      <td>127.152651</td>\n",
       "    </tr>\n",
       "  </tbody>\n",
       "</table>\n",
       "<p>91335 rows × 2 columns</p>\n",
       "</div>"
      ],
      "text/plain": [
       "              위도          경도\n",
       "0      37.336344  126.814295\n",
       "1      37.488742  127.053198\n",
       "2      37.344955  126.734841\n",
       "3      35.166872  129.115438\n",
       "4      37.323528  127.095522\n",
       "...          ...         ...\n",
       "91330  36.352728  127.389865\n",
       "91331  37.627530  126.830144\n",
       "91332  35.227138  129.082790\n",
       "91333  37.540993  127.143958\n",
       "91334  36.806640  127.152651\n",
       "\n",
       "[91335 rows x 2 columns]"
      ]
     },
     "execution_count": 49,
     "metadata": {},
     "output_type": "execute_result"
    }
   ],
   "source": [
    "# 2개의 컬럼을 describe로 요약\n",
    "# df[\"위도\", \"경도\"] >> 에러, 2개의 컬럼의 경우 리스트 형태로 넣어야한다.\n",
    "df[[\"위도\", \"경도\"]]"
   ]
  },
  {
   "cell_type": "code",
   "execution_count": 52,
   "metadata": {},
   "outputs": [
    {
     "data": {
      "text/html": [
       "<div>\n",
       "<style scoped>\n",
       "    .dataframe tbody tr th:only-of-type {\n",
       "        vertical-align: middle;\n",
       "    }\n",
       "\n",
       "    .dataframe tbody tr th {\n",
       "        vertical-align: top;\n",
       "    }\n",
       "\n",
       "    .dataframe thead th {\n",
       "        text-align: right;\n",
       "    }\n",
       "</style>\n",
       "<table border=\"1\" class=\"dataframe\">\n",
       "  <thead>\n",
       "    <tr style=\"text-align: right;\">\n",
       "      <th></th>\n",
       "      <th>위도</th>\n",
       "      <th>경도</th>\n",
       "    </tr>\n",
       "  </thead>\n",
       "  <tbody>\n",
       "    <tr>\n",
       "      <td>count</td>\n",
       "      <td>91335.000000</td>\n",
       "      <td>91335.000000</td>\n",
       "    </tr>\n",
       "    <tr>\n",
       "      <td>mean</td>\n",
       "      <td>36.624711</td>\n",
       "      <td>127.487524</td>\n",
       "    </tr>\n",
       "    <tr>\n",
       "      <td>std</td>\n",
       "      <td>1.041361</td>\n",
       "      <td>0.842877</td>\n",
       "    </tr>\n",
       "    <tr>\n",
       "      <td>min</td>\n",
       "      <td>33.219290</td>\n",
       "      <td>124.717632</td>\n",
       "    </tr>\n",
       "    <tr>\n",
       "      <td>25%</td>\n",
       "      <td>35.811830</td>\n",
       "      <td>126.914297</td>\n",
       "    </tr>\n",
       "    <tr>\n",
       "      <td>50%</td>\n",
       "      <td>37.234652</td>\n",
       "      <td>127.084550</td>\n",
       "    </tr>\n",
       "    <tr>\n",
       "      <td>75%</td>\n",
       "      <td>37.507463</td>\n",
       "      <td>128.108919</td>\n",
       "    </tr>\n",
       "    <tr>\n",
       "      <td>max</td>\n",
       "      <td>38.499659</td>\n",
       "      <td>130.909912</td>\n",
       "    </tr>\n",
       "  </tbody>\n",
       "</table>\n",
       "</div>"
      ],
      "text/plain": [
       "                 위도            경도\n",
       "count  91335.000000  91335.000000\n",
       "mean      36.624711    127.487524\n",
       "std        1.041361      0.842877\n",
       "min       33.219290    124.717632\n",
       "25%       35.811830    126.914297\n",
       "50%       37.234652    127.084550\n",
       "75%       37.507463    128.108919\n",
       "max       38.499659    130.909912"
      ]
     },
     "execution_count": 52,
     "metadata": {},
     "output_type": "execute_result"
    }
   ],
   "source": [
    "# 나중에 지도를 그려볼때 mean값을 기준으로 표현하게 된다.\n",
    "df[[\"위도\", \"경도\"]].describe()"
   ]
  },
  {
   "cell_type": "code",
   "execution_count": 59,
   "metadata": {},
   "outputs": [
    {
     "data": {
      "text/html": [
       "<div>\n",
       "<style scoped>\n",
       "    .dataframe tbody tr th:only-of-type {\n",
       "        vertical-align: middle;\n",
       "    }\n",
       "\n",
       "    .dataframe tbody tr th {\n",
       "        vertical-align: top;\n",
       "    }\n",
       "\n",
       "    .dataframe thead th {\n",
       "        text-align: right;\n",
       "    }\n",
       "</style>\n",
       "<table border=\"1\" class=\"dataframe\">\n",
       "  <thead>\n",
       "    <tr style=\"text-align: right;\">\n",
       "      <th></th>\n",
       "      <th>상호명</th>\n",
       "      <th>상권업종대분류코드</th>\n",
       "      <th>상권업종대분류명</th>\n",
       "      <th>상권업종중분류코드</th>\n",
       "      <th>상권업종중분류명</th>\n",
       "      <th>상권업종소분류코드</th>\n",
       "      <th>상권업종소분류명</th>\n",
       "      <th>시도명</th>\n",
       "      <th>시군구명</th>\n",
       "      <th>행정동명</th>\n",
       "      <th>법정동명</th>\n",
       "      <th>대지구분명</th>\n",
       "      <th>지번주소</th>\n",
       "      <th>도로명</th>\n",
       "      <th>건물관리번호</th>\n",
       "      <th>도로명주소</th>\n",
       "    </tr>\n",
       "  </thead>\n",
       "  <tbody>\n",
       "    <tr>\n",
       "      <td>count</td>\n",
       "      <td>91335</td>\n",
       "      <td>91335</td>\n",
       "      <td>91335</td>\n",
       "      <td>91335</td>\n",
       "      <td>91335</td>\n",
       "      <td>91335</td>\n",
       "      <td>91335</td>\n",
       "      <td>90956</td>\n",
       "      <td>90956</td>\n",
       "      <td>90956</td>\n",
       "      <td>91280</td>\n",
       "      <td>91335</td>\n",
       "      <td>91335</td>\n",
       "      <td>91335</td>\n",
       "      <td>91335</td>\n",
       "      <td>91335</td>\n",
       "    </tr>\n",
       "    <tr>\n",
       "      <td>unique</td>\n",
       "      <td>56910</td>\n",
       "      <td>1</td>\n",
       "      <td>1</td>\n",
       "      <td>5</td>\n",
       "      <td>5</td>\n",
       "      <td>34</td>\n",
       "      <td>34</td>\n",
       "      <td>17</td>\n",
       "      <td>228</td>\n",
       "      <td>2791</td>\n",
       "      <td>2822</td>\n",
       "      <td>2</td>\n",
       "      <td>53118</td>\n",
       "      <td>16610</td>\n",
       "      <td>54142</td>\n",
       "      <td>54031</td>\n",
       "    </tr>\n",
       "    <tr>\n",
       "      <td>top</td>\n",
       "      <td>리원</td>\n",
       "      <td>S</td>\n",
       "      <td>의료</td>\n",
       "      <td>S01</td>\n",
       "      <td>병원</td>\n",
       "      <td>S02A01</td>\n",
       "      <td>약국</td>\n",
       "      <td>경기도</td>\n",
       "      <td>서구</td>\n",
       "      <td>중앙동</td>\n",
       "      <td>중동</td>\n",
       "      <td>대지</td>\n",
       "      <td>서울특별시 동대문구 제기동 965-1</td>\n",
       "      <td>서울특별시 강남구 강남대로</td>\n",
       "      <td>1123010300109650001031604</td>\n",
       "      <td>서울특별시 동대문구 약령중앙로8길 10</td>\n",
       "    </tr>\n",
       "    <tr>\n",
       "      <td>freq</td>\n",
       "      <td>152</td>\n",
       "      <td>91335</td>\n",
       "      <td>91335</td>\n",
       "      <td>60774</td>\n",
       "      <td>60774</td>\n",
       "      <td>18964</td>\n",
       "      <td>18964</td>\n",
       "      <td>21374</td>\n",
       "      <td>3165</td>\n",
       "      <td>1856</td>\n",
       "      <td>874</td>\n",
       "      <td>91213</td>\n",
       "      <td>198</td>\n",
       "      <td>326</td>\n",
       "      <td>198</td>\n",
       "      <td>198</td>\n",
       "    </tr>\n",
       "  </tbody>\n",
       "</table>\n",
       "</div>"
      ],
      "text/plain": [
       "          상호명 상권업종대분류코드 상권업종대분류명 상권업종중분류코드 상권업종중분류명 상권업종소분류코드 상권업종소분류명    시도명  \\\n",
       "count   91335     91335    91335     91335    91335     91335    91335  90956   \n",
       "unique  56910         1        1         5        5        34       34     17   \n",
       "top        리원         S       의료       S01       병원    S02A01       약국    경기도   \n",
       "freq      152     91335    91335     60774    60774     18964    18964  21374   \n",
       "\n",
       "         시군구명   행정동명   법정동명  대지구분명                  지번주소             도로명  \\\n",
       "count   90956  90956  91280  91335                 91335           91335   \n",
       "unique    228   2791   2822      2                 53118           16610   \n",
       "top        서구    중앙동     중동     대지  서울특별시 동대문구 제기동 965-1  서울특별시 강남구 강남대로   \n",
       "freq     3165   1856    874  91213                   198             326   \n",
       "\n",
       "                           건물관리번호                  도로명주소  \n",
       "count                       91335                  91335  \n",
       "unique                      54142                  54031  \n",
       "top     1123010300109650001031604  서울특별시 동대문구 약령중앙로8길 10  \n",
       "freq                          198                    198  "
      ]
     },
     "execution_count": 59,
     "metadata": {},
     "output_type": "execute_result"
    }
   ],
   "source": [
    "# 문자열 데이터타입(여기선 오브젝트로 표현)의 요약, 결측지(NaN)데이터는 제외하고 보여준다.\n",
    "df.describe(include=\"object\")\n",
    "# top: 가장 많이 등장한 오브젝트\n",
    "# frep: top의 빈도수를 나타냄, e.g.'리원'이라는 상호명이 152건이 발생했다."
   ]
  },
  {
   "cell_type": "markdown",
   "metadata": {},
   "source": [
    "### 3.5 문자열 데이터 요약하기 - pandas 로 시각화 하기"
   ]
  },
  {
   "cell_type": "markdown",
   "metadata": {},
   "source": [
    "* 중복제거한 값 보기"
   ]
  },
  {
   "cell_type": "code",
   "execution_count": 62,
   "metadata": {},
   "outputs": [
    {
     "data": {
      "text/plain": [
       "array(['의료'], dtype=object)"
      ]
     },
     "execution_count": 62,
     "metadata": {},
     "output_type": "execute_result"
    }
   ],
   "source": [
    "# 상권업종대분류명 - 의료데이터이기 때문에 의료만 있음.\n",
    "df[\"상권업종대분류명\"].unique()"
   ]
  },
  {
   "cell_type": "code",
   "execution_count": 67,
   "metadata": {},
   "outputs": [
    {
     "data": {
      "text/plain": [
       "1"
      ]
     },
     "execution_count": 67,
     "metadata": {},
     "output_type": "execute_result"
    }
   ],
   "source": [
    "df[\"상권업종대분류명\"].nunique() # 중복제거한 값의 개수"
   ]
  },
  {
   "cell_type": "code",
   "execution_count": 70,
   "metadata": {},
   "outputs": [
    {
     "data": {
      "text/plain": [
       "array(['병원', '약국/한약방', '수의업', '유사의료업', '의료관련서비스업'], dtype=object)"
      ]
     },
     "execution_count": 70,
     "metadata": {},
     "output_type": "execute_result"
    }
   ],
   "source": [
    "# 상권업종중분류명\n",
    "df[\"상권업종중분류명\"].unique()"
   ]
  },
  {
   "cell_type": "code",
   "execution_count": 71,
   "metadata": {},
   "outputs": [
    {
     "data": {
      "text/plain": [
       "5"
      ]
     },
     "execution_count": 71,
     "metadata": {},
     "output_type": "execute_result"
    }
   ],
   "source": [
    "df[\"상권업종중분류명\"].nunique()"
   ]
  },
  {
   "cell_type": "code",
   "execution_count": 73,
   "metadata": {},
   "outputs": [
    {
     "data": {
      "text/plain": [
       "array(['산부인과', '내과/외과', '신경외과', '기타병원', '약국', '동물병원', '한약방', '탕제원',\n",
       "       '정형/성형외과', '소아과', '이비인후과의원', '노인/치매병원', '언어치료', '수의업-종합', '한의원',\n",
       "       '치과의원', '침구원', '일반병원', '안과의원', '조산원', '한방병원', '종합병원', '유사의료업기타',\n",
       "       '응급구조대', '혈액원', '치과병원', '척추교정치료', '피부과', '비뇨기과', '치과기공소', '산후조리원',\n",
       "       '접골원', '수의업-기타', '제대혈'], dtype=object)"
      ]
     },
     "execution_count": 73,
     "metadata": {},
     "output_type": "execute_result"
    }
   ],
   "source": [
    "# 상권업종소분류명\n",
    "df[\"상권업종소분류명\"].unique()"
   ]
  },
  {
   "cell_type": "code",
   "execution_count": 75,
   "metadata": {},
   "outputs": [
    {
     "data": {
      "text/plain": [
       "34"
      ]
     },
     "execution_count": 75,
     "metadata": {},
     "output_type": "execute_result"
    }
   ],
   "source": [
    "df[\"상권업종소분류명\"].nunique()"
   ]
  },
  {
   "cell_type": "code",
   "execution_count": 78,
   "metadata": {},
   "outputs": [
    {
     "data": {
      "text/plain": [
       "34"
      ]
     },
     "execution_count": 78,
     "metadata": {},
     "output_type": "execute_result"
    }
   ],
   "source": [
    "len(df[\"상권업종소분류명\"].unique())"
   ]
  },
  {
   "cell_type": "markdown",
   "metadata": {},
   "source": [
    "* 그룹화된 요약값 보기 - value_counts"
   ]
  },
  {
   "cell_type": "code",
   "execution_count": 80,
   "metadata": {},
   "outputs": [
    {
     "data": {
      "text/plain": [
       "0      경기도\n",
       "1    서울특별시\n",
       "2      경기도\n",
       "3    부산광역시\n",
       "4      경기도\n",
       "Name: 시도명, dtype: object"
      ]
     },
     "execution_count": 80,
     "metadata": {},
     "output_type": "execute_result"
    }
   ],
   "source": [
    "# df[\"시도코드\"] : 결측치가 많아 제거됨\n",
    "df[\"시도명\"].head()"
   ]
  },
  {
   "cell_type": "code",
   "execution_count": 88,
   "metadata": {},
   "outputs": [
    {
     "data": {
      "text/plain": [
       "경기도        21374\n",
       "서울특별시      18943\n",
       "부산광역시       6473\n",
       "경상남도        4973\n",
       "인천광역시       4722\n",
       "대구광역시       4597\n",
       "경상북도        4141\n",
       "전라북도        3894\n",
       "충청남도        3578\n",
       "전라남도        3224\n",
       "광주광역시       3214\n",
       "대전광역시       3067\n",
       "충청북도        2677\n",
       "강원도         2634\n",
       "울산광역시       1997\n",
       "제주특별자치도     1095\n",
       "세종특별자치시      353\n",
       "Name: 시도명, dtype: int64"
      ]
     },
     "execution_count": 88,
     "metadata": {},
     "output_type": "execute_result"
    }
   ],
   "source": [
    "city = df[\"시도명\"].value_counts()\n",
    "city"
   ]
  },
  {
   "cell_type": "code",
   "execution_count": 90,
   "metadata": {},
   "outputs": [
    {
     "data": {
      "text/plain": [
       "경기도        0.234993\n",
       "서울특별시      0.208266\n",
       "부산광역시      0.071166\n",
       "경상남도       0.054675\n",
       "인천광역시      0.051915\n",
       "대구광역시      0.050541\n",
       "경상북도       0.045528\n",
       "전라북도       0.042812\n",
       "충청남도       0.039338\n",
       "전라남도       0.035446\n",
       "광주광역시      0.035336\n",
       "대전광역시      0.033720\n",
       "충청북도       0.029432\n",
       "강원도        0.028959\n",
       "울산광역시      0.021956\n",
       "제주특별자치도    0.012039\n",
       "세종특별자치시    0.003881\n",
       "Name: 시도명, dtype: float64"
      ]
     },
     "execution_count": 90,
     "metadata": {},
     "output_type": "execute_result"
    }
   ],
   "source": [
    "# 비율 : nomalize=True , 각각의 데이터가 얼마정도의 비율을 차지하고 있는지\n",
    "city_normalize = df[\"시도명\"].value_counts(normalize=True)\n",
    "city_normalize"
   ]
  },
  {
   "cell_type": "code",
   "execution_count": 93,
   "metadata": {},
   "outputs": [
    {
     "data": {
      "text/plain": [
       "<matplotlib.axes._subplots.AxesSubplot at 0x1f028965708>"
      ]
     },
     "execution_count": 93,
     "metadata": {},
     "output_type": "execute_result"
    },
    {
     "data": {
      "image/png": "[encoded data removed]",
      "text/plain": [
       "<Figure size 432x288 with 1 Axes>"
      ]
     },
     "metadata": {
      "image/png": {
       "height": 249,
       "width": 418
      },
      "needs_background": "light"
     },
     "output_type": "display_data"
    }
   ],
   "source": [
    "# 판다스 plot()는 라인차트가 디폴트\n",
    "city.plot()"
   ]
  },
  {
   "cell_type": "code",
   "execution_count": 96,
   "metadata": {},
   "outputs": [
    {
     "data": {
      "text/plain": [
       "<matplotlib.axes._subplots.AxesSubplot at 0x1f02a85c9c8>"
      ]
     },
     "execution_count": 96,
     "metadata": {},
     "output_type": "execute_result"
    },
    {
     "data": {
      "image/png": "[encoded data removed]",
      "text/plain": [
       "<Figure size 432x288 with 1 Axes>"
      ]
     },
     "metadata": {
      "image/png": {
       "height": 249,
       "width": 426
      },
      "needs_background": "light"
     },
     "output_type": "display_data"
    }
   ],
   "source": [
    "# 라인차트보단 barh가 더 적절함\n",
    "city.plot.barh()"
   ]
  },
  {
   "cell_type": "code",
   "execution_count": 101,
   "metadata": {},
   "outputs": [
    {
     "data": {
      "text/plain": [
       "<matplotlib.axes._subplots.AxesSubplot at 0x1f02de944c8>"
      ]
     },
     "execution_count": 101,
     "metadata": {},
     "output_type": "execute_result"
    },
    {
     "data": {
      "image/png": "[encoded data removed]",
      "text/plain": [
       "<Figure size 504x504 with 1 Axes>"
      ]
     },
     "metadata": {
      "image/png": {
       "height": 394,
       "width": 467
      }
     },
     "output_type": "display_data"
    }
   ],
   "source": [
    "# 파이그래프, figsize는 글씨겹침을 해결\n",
    "# 사실 비슷한 파이끼리 비교가 힘들기 때문에 barh가 더 적당함\n",
    "# seaborn의 경우 파이차트가 없는데, 여러 오해요소가 있기 때문이고 파이차트를 권장하진 않음\n",
    "city.plot.pie(figsize = (7, 7))"
   ]
  },
  {
   "cell_type": "markdown",
   "metadata": {},
   "source": [
    "### 3.6 데이터 요약하기 - seaborn 으로 빈도수 시각화 하기"
   ]
  },
  {
   "cell_type": "code",
   "execution_count": 108,
   "metadata": {},
   "outputs": [
    {
     "data": {
      "text/plain": [
       "<matplotlib.axes._subplots.AxesSubplot at 0x1f02ef46a88>"
      ]
     },
     "execution_count": 108,
     "metadata": {},
     "output_type": "execute_result"
    },
    {
     "data": {
      "image/png": "[encoded data removed]",
      "text/plain": [
       "<Figure size 432x288 with 1 Axes>"
      ]
     },
     "metadata": {
      "image/png": {
       "height": 263,
       "width": 440
      },
      "needs_background": "light"
     },
     "output_type": "display_data"
    }
   ],
   "source": [
    "# seaborn의 countplot으로 그리기, barh와 비슷하지만 좀 더 스타일있는 차트를 그릴 수 있고 고급통계기능을 사용할 수 있다.\n",
    "sns.countplot(data=df, y=\"시도명\")"
   ]
  },
  {
   "cell_type": "code",
   "execution_count": 115,
   "metadata": {},
   "outputs": [
    {
     "data": {
      "text/plain": [
       "의료    91335\n",
       "Name: 상권업종대분류명, dtype: int64"
      ]
     },
     "execution_count": 115,
     "metadata": {},
     "output_type": "execute_result"
    }
   ],
   "source": [
    "# 다른 칼럼으로 갯수를 세어보기, valuecounts는 결측치를 제외함\n",
    "df[\"상권업종대분류명\"].value_counts()"
   ]
  },
  {
   "cell_type": "code",
   "execution_count": 117,
   "metadata": {},
   "outputs": [
    {
     "data": {
      "text/plain": [
       "병원          60774\n",
       "약국/한약방      20923\n",
       "수의업          5323\n",
       "유사의료업        3774\n",
       "의료관련서비스업      541\n",
       "Name: 상권업종중분류명, dtype: int64"
      ]
     },
     "execution_count": 117,
     "metadata": {},
     "output_type": "execute_result"
    }
   ],
   "source": [
    "c = df[\"상권업종중분류명\"].value_counts()\n",
    "c"
   ]
  },
  {
   "cell_type": "code",
   "execution_count": 118,
   "metadata": {},
   "outputs": [
    {
     "data": {
      "text/plain": [
       "병원          0.665397\n",
       "약국/한약방      0.229080\n",
       "수의업         0.058280\n",
       "유사의료업       0.041320\n",
       "의료관련서비스업    0.005923\n",
       "Name: 상권업종중분류명, dtype: float64"
      ]
     },
     "execution_count": 118,
     "metadata": {},
     "output_type": "execute_result"
    }
   ],
   "source": [
    "n = df[\"상권업종중분류명\"].value_counts(normalize=True)\n",
    "n"
   ]
  },
  {
   "cell_type": "code",
   "execution_count": 122,
   "metadata": {},
   "outputs": [
    {
     "data": {
      "text/plain": [
       "<matplotlib.axes._subplots.AxesSubplot at 0x1f030d5ad48>"
      ]
     },
     "execution_count": 122,
     "metadata": {},
     "output_type": "execute_result"
    },
    {
     "data": {
      "image/png": "[encoded data removed]",
      "text/plain": [
       "<Figure size 432x288 with 1 Axes>"
      ]
     },
     "metadata": {
      "image/png": {
       "height": 249,
       "width": 390
      },
      "needs_background": "light"
     },
     "output_type": "display_data"
    }
   ],
   "source": [
    "# 판다스의 plot.bar()로 막대그래프 그리기\n",
    "# 텍스트를 rotate하기 : rot=0\n",
    "c.plot.bar(rot=0)"
   ]
  },
  {
   "cell_type": "code",
   "execution_count": 124,
   "metadata": {},
   "outputs": [
    {
     "data": {
      "text/plain": [
       "<matplotlib.axes._subplots.AxesSubplot at 0x1f030fc4a88>"
      ]
     },
     "execution_count": 124,
     "metadata": {},
     "output_type": "execute_result"
    },
    {
     "data": {
      "image/png": "[encoded data removed]",
      "text/plain": [
       "<Figure size 432x288 with 1 Axes>"
      ]
     },
     "metadata": {
      "image/png": {
       "height": 231,
       "width": 313
      }
     },
     "output_type": "display_data"
    }
   ],
   "source": [
    "# 판다스의 pie를 사용하여 파이그래프 그리기\n",
    "n.plot.pie()"
   ]
  },
  {
   "cell_type": "code",
   "execution_count": 130,
   "metadata": {},
   "outputs": [
    {
     "data": {
      "text/plain": [
       "약국         18964\n",
       "치과의원       13731\n",
       "한의원        13211\n",
       "내과/외과      11374\n",
       "기타병원        4922\n",
       "일반병원        3385\n",
       "동물병원        3098\n",
       "정형/성형외과     2562\n",
       "소아과         2472\n",
       "수의업-종합      2216\n",
       "치과기공소       1724\n",
       "이비인후과의원     1486\n",
       "한약방         1442\n",
       "피부과         1273\n",
       "산부인과        1116\n",
       "노인/치매병원     1055\n",
       "안과의원        1042\n",
       "비뇨기과         809\n",
       "종합병원         762\n",
       "치과병원         756\n",
       "언어치료         664\n",
       "유사의료업기타      629\n",
       "탕제원          517\n",
       "산후조리원        511\n",
       "신경외과         421\n",
       "한방병원         397\n",
       "척추교정치료       338\n",
       "침구원          154\n",
       "혈액원          130\n",
       "응급구조대        125\n",
       "조산원           30\n",
       "접골원            9\n",
       "수의업-기타         9\n",
       "제대혈            1\n",
       "Name: 상권업종소분류명, dtype: int64"
      ]
     },
     "execution_count": 130,
     "metadata": {},
     "output_type": "execute_result"
    }
   ],
   "source": [
    "# 상권업종소분류명\n",
    "s = df[\"상권업종소분류명\"].value_counts()\n",
    "s"
   ]
  },
  {
   "cell_type": "code",
   "execution_count": 133,
   "metadata": {},
   "outputs": [
    {
     "data": {
      "text/plain": [
       "<matplotlib.axes._subplots.AxesSubplot at 0x1f03162aac8>"
      ]
     },
     "execution_count": 133,
     "metadata": {},
     "output_type": "execute_result"
    },
    {
     "data": {
      "image/png": "[encoded data removed]",
      "text/plain": [
       "<Figure size 504x576 with 1 Axes>"
      ]
     },
     "metadata": {
      "image/png": {
       "height": 466,
       "width": 481
      },
      "needs_background": "light"
     },
     "output_type": "display_data"
    }
   ],
   "source": [
    "# 그래프사이즈바꾸기 figsize=(7,8)\n",
    "# 격자 그리기 : grid=True\n",
    "s.plot.barh(figsize=(7,8), grid=True)"
   ]
  },
  {
   "cell_type": "markdown",
   "metadata": {},
   "source": [
    "### 3.7 원하는 데이터만 따로 추출해 오기 - 데이터 색인하기"
   ]
  },
  {
   "cell_type": "code",
   "execution_count": 136,
   "metadata": {},
   "outputs": [
    {
     "data": {
      "text/plain": [
       "0              병원\n",
       "1              병원\n",
       "2              병원\n",
       "3              병원\n",
       "4          약국/한약방\n",
       "           ...   \n",
       "91330      약국/한약방\n",
       "91331    의료관련서비스업\n",
       "91332          병원\n",
       "91333          병원\n",
       "91334          병원\n",
       "Name: 상권업종중분류명, Length: 91335, dtype: object"
      ]
     },
     "execution_count": 136,
     "metadata": {},
     "output_type": "execute_result"
    }
   ],
   "source": [
    "# \"상권업종중분류명\"이 \"약국/한약방\"인 데이터만 가져와서\n",
    "df[\"상권업종중분류명\"]"
   ]
  },
  {
   "cell_type": "code",
   "execution_count": 142,
   "metadata": {},
   "outputs": [
    {
     "data": {
      "text/plain": [
       "0        False\n",
       "1        False\n",
       "2        False\n",
       "3        False\n",
       "4         True\n",
       "         ...  \n",
       "91330     True\n",
       "91331    False\n",
       "91332    False\n",
       "91333    False\n",
       "91334    False\n",
       "Name: 상권업종중분류명, Length: 91335, dtype: bool"
      ]
     },
     "execution_count": 142,
     "metadata": {},
     "output_type": "execute_result"
    }
   ],
   "source": [
    "# boolean indexing\n",
    "df[\"상권업종중분류명\"] == \"약국/한약방\""
   ]
  },
  {
   "cell_type": "code",
   "execution_count": 147,
   "metadata": {},
   "outputs": [
    {
     "data": {
      "text/html": [
       "<div>\n",
       "<style scoped>\n",
       "    .dataframe tbody tr th:only-of-type {\n",
       "        vertical-align: middle;\n",
       "    }\n",
       "\n",
       "    .dataframe tbody tr th {\n",
       "        vertical-align: top;\n",
       "    }\n",
       "\n",
       "    .dataframe thead th {\n",
       "        text-align: right;\n",
       "    }\n",
       "</style>\n",
       "<table border=\"1\" class=\"dataframe\">\n",
       "  <thead>\n",
       "    <tr style=\"text-align: right;\">\n",
       "      <th></th>\n",
       "      <th>상가업소번호</th>\n",
       "      <th>상호명</th>\n",
       "      <th>상권업종대분류코드</th>\n",
       "      <th>상권업종대분류명</th>\n",
       "      <th>상권업종중분류코드</th>\n",
       "      <th>상권업종중분류명</th>\n",
       "      <th>상권업종소분류코드</th>\n",
       "      <th>상권업종소분류명</th>\n",
       "      <th>시도명</th>\n",
       "      <th>시군구코드</th>\n",
       "      <th>...</th>\n",
       "      <th>지번주소</th>\n",
       "      <th>도로명코드</th>\n",
       "      <th>도로명</th>\n",
       "      <th>건물본번지</th>\n",
       "      <th>건물관리번호</th>\n",
       "      <th>도로명주소</th>\n",
       "      <th>구우편번호</th>\n",
       "      <th>신우편번호</th>\n",
       "      <th>경도</th>\n",
       "      <th>위도</th>\n",
       "    </tr>\n",
       "  </thead>\n",
       "  <tbody>\n",
       "    <tr>\n",
       "      <td>4</td>\n",
       "      <td>20364049</td>\n",
       "      <td>더블유스토어수지점</td>\n",
       "      <td>S</td>\n",
       "      <td>의료</td>\n",
       "      <td>S02</td>\n",
       "      <td>약국/한약방</td>\n",
       "      <td>S02A01</td>\n",
       "      <td>약국</td>\n",
       "      <td>경기도</td>\n",
       "      <td>41465.0</td>\n",
       "      <td>...</td>\n",
       "      <td>경기도 용인시 수지구 풍덕천동 712-2</td>\n",
       "      <td>414653205024</td>\n",
       "      <td>경기도 용인시 수지구 문정로</td>\n",
       "      <td>32</td>\n",
       "      <td>4146510100107120002026238</td>\n",
       "      <td>경기도 용인시 수지구 문정로 32</td>\n",
       "      <td>448170.0</td>\n",
       "      <td>16837.0</td>\n",
       "      <td>127.095522</td>\n",
       "      <td>37.323528</td>\n",
       "    </tr>\n",
       "    <tr>\n",
       "      <td>6</td>\n",
       "      <td>20733252</td>\n",
       "      <td>춘산한약방</td>\n",
       "      <td>S</td>\n",
       "      <td>의료</td>\n",
       "      <td>S02</td>\n",
       "      <td>약국/한약방</td>\n",
       "      <td>S02A02</td>\n",
       "      <td>한약방</td>\n",
       "      <td>강원도</td>\n",
       "      <td>42110.0</td>\n",
       "      <td>...</td>\n",
       "      <td>강원도 춘천시 중앙로2가 99</td>\n",
       "      <td>421104454113</td>\n",
       "      <td>강원도 춘천시 낙원길</td>\n",
       "      <td>50</td>\n",
       "      <td>4211010500101000000023668</td>\n",
       "      <td>강원도 춘천시 낙원길 50</td>\n",
       "      <td>200042.0</td>\n",
       "      <td>24273.0</td>\n",
       "      <td>127.726905</td>\n",
       "      <td>37.880504</td>\n",
       "    </tr>\n",
       "    <tr>\n",
       "      <td>7</td>\n",
       "      <td>20582210</td>\n",
       "      <td>부부탕제원</td>\n",
       "      <td>S</td>\n",
       "      <td>의료</td>\n",
       "      <td>S02</td>\n",
       "      <td>약국/한약방</td>\n",
       "      <td>S02A03</td>\n",
       "      <td>탕제원</td>\n",
       "      <td>충청북도</td>\n",
       "      <td>43111.0</td>\n",
       "      <td>...</td>\n",
       "      <td>충청북도 청주시 상당구 금천동 187-17</td>\n",
       "      <td>431114508623</td>\n",
       "      <td>충청북도 청주시 상당구 중고개로337번길</td>\n",
       "      <td>134</td>\n",
       "      <td>4311112000101870017042942</td>\n",
       "      <td>충청북도 청주시 상당구 중고개로337번길 134</td>\n",
       "      <td>360802.0</td>\n",
       "      <td>28726.0</td>\n",
       "      <td>127.499206</td>\n",
       "      <td>36.625355</td>\n",
       "    </tr>\n",
       "    <tr>\n",
       "      <td>10</td>\n",
       "      <td>21057519</td>\n",
       "      <td>민생약국</td>\n",
       "      <td>S</td>\n",
       "      <td>의료</td>\n",
       "      <td>S02</td>\n",
       "      <td>약국/한약방</td>\n",
       "      <td>S02A01</td>\n",
       "      <td>약국</td>\n",
       "      <td>경상남도</td>\n",
       "      <td>48890.0</td>\n",
       "      <td>...</td>\n",
       "      <td>경상남도 합천군 용주면 월평리 78-2</td>\n",
       "      <td>488904844473</td>\n",
       "      <td>경상남도 합천군 용주면 월평길</td>\n",
       "      <td>149</td>\n",
       "      <td>4889046030200780002048274</td>\n",
       "      <td>경상남도 합천군 용주면 월평길 149-35</td>\n",
       "      <td>678912.0</td>\n",
       "      <td>50212.0</td>\n",
       "      <td>128.118615</td>\n",
       "      <td>35.575962</td>\n",
       "    </tr>\n",
       "    <tr>\n",
       "      <td>13</td>\n",
       "      <td>21217689</td>\n",
       "      <td>제중당한약방</td>\n",
       "      <td>S</td>\n",
       "      <td>의료</td>\n",
       "      <td>S02</td>\n",
       "      <td>약국/한약방</td>\n",
       "      <td>S02A02</td>\n",
       "      <td>한약방</td>\n",
       "      <td>전라남도</td>\n",
       "      <td>46830.0</td>\n",
       "      <td>...</td>\n",
       "      <td>전라남도 영암군 도포면 덕화리 296</td>\n",
       "      <td>468304685396</td>\n",
       "      <td>전라남도 영암군 도포면 인덕길</td>\n",
       "      <td>75</td>\n",
       "      <td>4683035023102960000000001</td>\n",
       "      <td>전라남도 영암군 도포면 인덕길 75-10</td>\n",
       "      <td>526832.0</td>\n",
       "      <td>58429.0</td>\n",
       "      <td>126.630348</td>\n",
       "      <td>34.834080</td>\n",
       "    </tr>\n",
       "    <tr>\n",
       "      <td>...</td>\n",
       "      <td>...</td>\n",
       "      <td>...</td>\n",
       "      <td>...</td>\n",
       "      <td>...</td>\n",
       "      <td>...</td>\n",
       "      <td>...</td>\n",
       "      <td>...</td>\n",
       "      <td>...</td>\n",
       "      <td>...</td>\n",
       "      <td>...</td>\n",
       "      <td>...</td>\n",
       "      <td>...</td>\n",
       "      <td>...</td>\n",
       "      <td>...</td>\n",
       "      <td>...</td>\n",
       "      <td>...</td>\n",
       "      <td>...</td>\n",
       "      <td>...</td>\n",
       "      <td>...</td>\n",
       "      <td>...</td>\n",
       "      <td>...</td>\n",
       "    </tr>\n",
       "    <tr>\n",
       "      <td>91312</td>\n",
       "      <td>16131397</td>\n",
       "      <td>큰나무약국</td>\n",
       "      <td>S</td>\n",
       "      <td>의료</td>\n",
       "      <td>S02</td>\n",
       "      <td>약국/한약방</td>\n",
       "      <td>S02A01</td>\n",
       "      <td>약국</td>\n",
       "      <td>경기도</td>\n",
       "      <td>41281.0</td>\n",
       "      <td>...</td>\n",
       "      <td>경기도 고양시 덕양구 성사동 700-11</td>\n",
       "      <td>412812192001</td>\n",
       "      <td>경기도 고양시 덕양구 고양대로</td>\n",
       "      <td>1361</td>\n",
       "      <td>4128110600107000011013834</td>\n",
       "      <td>경기도 고양시 덕양구 고양대로 1361</td>\n",
       "      <td>412807.0</td>\n",
       "      <td>10464.0</td>\n",
       "      <td>126.835684</td>\n",
       "      <td>37.655048</td>\n",
       "    </tr>\n",
       "    <tr>\n",
       "      <td>91321</td>\n",
       "      <td>16130841</td>\n",
       "      <td>복음약국</td>\n",
       "      <td>S</td>\n",
       "      <td>의료</td>\n",
       "      <td>S02</td>\n",
       "      <td>약국/한약방</td>\n",
       "      <td>S02A01</td>\n",
       "      <td>약국</td>\n",
       "      <td>대구광역시</td>\n",
       "      <td>27290.0</td>\n",
       "      <td>...</td>\n",
       "      <td>대구광역시 달서구 본동 276</td>\n",
       "      <td>272904241030</td>\n",
       "      <td>대구광역시 달서구 구마로36길</td>\n",
       "      <td>33</td>\n",
       "      <td>2729012400102760000029818</td>\n",
       "      <td>대구광역시 달서구 구마로36길 33</td>\n",
       "      <td>704752.0</td>\n",
       "      <td>42735.0</td>\n",
       "      <td>128.547352</td>\n",
       "      <td>35.836250</td>\n",
       "    </tr>\n",
       "    <tr>\n",
       "      <td>91322</td>\n",
       "      <td>16091491</td>\n",
       "      <td>설연화한복감성약방</td>\n",
       "      <td>S</td>\n",
       "      <td>의료</td>\n",
       "      <td>S02</td>\n",
       "      <td>약국/한약방</td>\n",
       "      <td>S02A01</td>\n",
       "      <td>약국</td>\n",
       "      <td>서울특별시</td>\n",
       "      <td>11260.0</td>\n",
       "      <td>...</td>\n",
       "      <td>서울특별시 중랑구 묵동 174-1</td>\n",
       "      <td>112603005050</td>\n",
       "      <td>서울특별시 중랑구 공릉로</td>\n",
       "      <td>28</td>\n",
       "      <td>1126010400101740001009985</td>\n",
       "      <td>서울특별시 중랑구 공릉로 28</td>\n",
       "      <td>131848.0</td>\n",
       "      <td>2034.0</td>\n",
       "      <td>127.078082</td>\n",
       "      <td>37.613194</td>\n",
       "    </tr>\n",
       "    <tr>\n",
       "      <td>91324</td>\n",
       "      <td>16109731</td>\n",
       "      <td>위례수약국</td>\n",
       "      <td>S</td>\n",
       "      <td>의료</td>\n",
       "      <td>S02</td>\n",
       "      <td>약국/한약방</td>\n",
       "      <td>S02A01</td>\n",
       "      <td>약국</td>\n",
       "      <td>경기도</td>\n",
       "      <td>41131.0</td>\n",
       "      <td>...</td>\n",
       "      <td>경기도 성남시 수정구 창곡동 559-4</td>\n",
       "      <td>411313350738</td>\n",
       "      <td>경기도 성남시 수정구 위례서일로</td>\n",
       "      <td>18</td>\n",
       "      <td>4113110800101810002000002</td>\n",
       "      <td>경기도 성남시 수정구 위례서일로 18</td>\n",
       "      <td>461210.0</td>\n",
       "      <td>13647.0</td>\n",
       "      <td>127.137870</td>\n",
       "      <td>37.465260</td>\n",
       "    </tr>\n",
       "    <tr>\n",
       "      <td>91330</td>\n",
       "      <td>16196725</td>\n",
       "      <td>온누리약국</td>\n",
       "      <td>S</td>\n",
       "      <td>의료</td>\n",
       "      <td>S02</td>\n",
       "      <td>약국/한약방</td>\n",
       "      <td>S02A01</td>\n",
       "      <td>약국</td>\n",
       "      <td>대전광역시</td>\n",
       "      <td>30170.0</td>\n",
       "      <td>...</td>\n",
       "      <td>대전광역시 서구 둔산동 1507</td>\n",
       "      <td>301703166026</td>\n",
       "      <td>대전광역시 서구 문예로</td>\n",
       "      <td>67</td>\n",
       "      <td>3017011200115070000021096</td>\n",
       "      <td>대전광역시 서구 문예로 67</td>\n",
       "      <td>302831.0</td>\n",
       "      <td>35240.0</td>\n",
       "      <td>127.389865</td>\n",
       "      <td>36.352728</td>\n",
       "    </tr>\n",
       "  </tbody>\n",
       "</table>\n",
       "<p>20923 rows × 29 columns</p>\n",
       "</div>"
      ],
      "text/plain": [
       "         상가업소번호        상호명 상권업종대분류코드 상권업종대분류명 상권업종중분류코드 상권업종중분류명 상권업종소분류코드  \\\n",
       "4      20364049  더블유스토어수지점         S       의료       S02   약국/한약방    S02A01   \n",
       "6      20733252      춘산한약방         S       의료       S02   약국/한약방    S02A02   \n",
       "7      20582210      부부탕제원         S       의료       S02   약국/한약방    S02A03   \n",
       "10     21057519       민생약국         S       의료       S02   약국/한약방    S02A01   \n",
       "13     21217689     제중당한약방         S       의료       S02   약국/한약방    S02A02   \n",
       "...         ...        ...       ...      ...       ...      ...       ...   \n",
       "91312  16131397      큰나무약국         S       의료       S02   약국/한약방    S02A01   \n",
       "91321  16130841       복음약국         S       의료       S02   약국/한약방    S02A01   \n",
       "91322  16091491  설연화한복감성약방         S       의료       S02   약국/한약방    S02A01   \n",
       "91324  16109731      위례수약국         S       의료       S02   약국/한약방    S02A01   \n",
       "91330  16196725      온누리약국         S       의료       S02   약국/한약방    S02A01   \n",
       "\n",
       "      상권업종소분류명    시도명    시군구코드  ...                     지번주소         도로명코드  \\\n",
       "4           약국    경기도  41465.0  ...   경기도 용인시 수지구 풍덕천동 712-2  414653205024   \n",
       "6          한약방    강원도  42110.0  ...         강원도 춘천시 중앙로2가 99  421104454113   \n",
       "7          탕제원   충청북도  43111.0  ...  충청북도 청주시 상당구 금천동 187-17  431114508623   \n",
       "10          약국   경상남도  48890.0  ...    경상남도 합천군 용주면 월평리 78-2  488904844473   \n",
       "13         한약방   전라남도  46830.0  ...     전라남도 영암군 도포면 덕화리 296  468304685396   \n",
       "...        ...    ...      ...  ...                      ...           ...   \n",
       "91312       약국    경기도  41281.0  ...   경기도 고양시 덕양구 성사동 700-11  412812192001   \n",
       "91321       약국  대구광역시  27290.0  ...         대구광역시 달서구 본동 276  272904241030   \n",
       "91322       약국  서울특별시  11260.0  ...       서울특별시 중랑구 묵동 174-1  112603005050   \n",
       "91324       약국    경기도  41131.0  ...    경기도 성남시 수정구 창곡동 559-4  411313350738   \n",
       "91330       약국  대전광역시  30170.0  ...        대전광역시 서구 둔산동 1507  301703166026   \n",
       "\n",
       "                          도로명  건물본번지                     건물관리번호  \\\n",
       "4             경기도 용인시 수지구 문정로     32  4146510100107120002026238   \n",
       "6                 강원도 춘천시 낙원길     50  4211010500101000000023668   \n",
       "7      충청북도 청주시 상당구 중고개로337번길    134  4311112000101870017042942   \n",
       "10           경상남도 합천군 용주면 월평길    149  4889046030200780002048274   \n",
       "13           전라남도 영암군 도포면 인덕길     75  4683035023102960000000001   \n",
       "...                       ...    ...                        ...   \n",
       "91312        경기도 고양시 덕양구 고양대로   1361  4128110600107000011013834   \n",
       "91321        대구광역시 달서구 구마로36길     33  2729012400102760000029818   \n",
       "91322           서울특별시 중랑구 공릉로     28  1126010400101740001009985   \n",
       "91324       경기도 성남시 수정구 위례서일로     18  4113110800101810002000002   \n",
       "91330            대전광역시 서구 문예로     67  3017011200115070000021096   \n",
       "\n",
       "                            도로명주소     구우편번호    신우편번호          경도         위도  \n",
       "4              경기도 용인시 수지구 문정로 32  448170.0  16837.0  127.095522  37.323528  \n",
       "6                  강원도 춘천시 낙원길 50  200042.0  24273.0  127.726905  37.880504  \n",
       "7      충청북도 청주시 상당구 중고개로337번길 134  360802.0  28726.0  127.499206  36.625355  \n",
       "10        경상남도 합천군 용주면 월평길 149-35  678912.0  50212.0  128.118615  35.575962  \n",
       "13         전라남도 영암군 도포면 인덕길 75-10  526832.0  58429.0  126.630348  34.834080  \n",
       "...                           ...       ...      ...         ...        ...  \n",
       "91312       경기도 고양시 덕양구 고양대로 1361  412807.0  10464.0  126.835684  37.655048  \n",
       "91321         대구광역시 달서구 구마로36길 33  704752.0  42735.0  128.547352  35.836250  \n",
       "91322            서울특별시 중랑구 공릉로 28  131848.0   2034.0  127.078082  37.613194  \n",
       "91324        경기도 성남시 수정구 위례서일로 18  461210.0  13647.0  127.137870  37.465260  \n",
       "91330             대전광역시 서구 문예로 67  302831.0  35240.0  127.389865  36.352728  \n",
       "\n",
       "[20923 rows x 29 columns]"
      ]
     },
     "execution_count": 147,
     "metadata": {},
     "output_type": "execute_result"
    }
   ],
   "source": [
    "# df로 다시 감싸면 약국/한약방 데이터만 가져와서 미리보기로 볼 수 있음\n",
    "df[df[\"상권업종중분류명\"] == \"약국/한약방\"]"
   ]
  },
  {
   "cell_type": "code",
   "execution_count": 148,
   "metadata": {},
   "outputs": [
    {
     "data": {
      "text/html": [
       "<div>\n",
       "<style scoped>\n",
       "    .dataframe tbody tr th:only-of-type {\n",
       "        vertical-align: middle;\n",
       "    }\n",
       "\n",
       "    .dataframe tbody tr th {\n",
       "        vertical-align: top;\n",
       "    }\n",
       "\n",
       "    .dataframe thead th {\n",
       "        text-align: right;\n",
       "    }\n",
       "</style>\n",
       "<table border=\"1\" class=\"dataframe\">\n",
       "  <thead>\n",
       "    <tr style=\"text-align: right;\">\n",
       "      <th></th>\n",
       "      <th>상가업소번호</th>\n",
       "      <th>상호명</th>\n",
       "      <th>상권업종대분류코드</th>\n",
       "      <th>상권업종대분류명</th>\n",
       "      <th>상권업종중분류코드</th>\n",
       "      <th>상권업종중분류명</th>\n",
       "      <th>상권업종소분류코드</th>\n",
       "      <th>상권업종소분류명</th>\n",
       "      <th>시도명</th>\n",
       "      <th>시군구코드</th>\n",
       "      <th>...</th>\n",
       "      <th>지번주소</th>\n",
       "      <th>도로명코드</th>\n",
       "      <th>도로명</th>\n",
       "      <th>건물본번지</th>\n",
       "      <th>건물관리번호</th>\n",
       "      <th>도로명주소</th>\n",
       "      <th>구우편번호</th>\n",
       "      <th>신우편번호</th>\n",
       "      <th>경도</th>\n",
       "      <th>위도</th>\n",
       "    </tr>\n",
       "  </thead>\n",
       "  <tbody>\n",
       "    <tr>\n",
       "      <td>4</td>\n",
       "      <td>20364049</td>\n",
       "      <td>더블유스토어수지점</td>\n",
       "      <td>S</td>\n",
       "      <td>의료</td>\n",
       "      <td>S02</td>\n",
       "      <td>약국/한약방</td>\n",
       "      <td>S02A01</td>\n",
       "      <td>약국</td>\n",
       "      <td>경기도</td>\n",
       "      <td>41465.0</td>\n",
       "      <td>...</td>\n",
       "      <td>경기도 용인시 수지구 풍덕천동 712-2</td>\n",
       "      <td>414653205024</td>\n",
       "      <td>경기도 용인시 수지구 문정로</td>\n",
       "      <td>32</td>\n",
       "      <td>4146510100107120002026238</td>\n",
       "      <td>경기도 용인시 수지구 문정로 32</td>\n",
       "      <td>448170.0</td>\n",
       "      <td>16837.0</td>\n",
       "      <td>127.095522</td>\n",
       "      <td>37.323528</td>\n",
       "    </tr>\n",
       "    <tr>\n",
       "      <td>6</td>\n",
       "      <td>20733252</td>\n",
       "      <td>춘산한약방</td>\n",
       "      <td>S</td>\n",
       "      <td>의료</td>\n",
       "      <td>S02</td>\n",
       "      <td>약국/한약방</td>\n",
       "      <td>S02A02</td>\n",
       "      <td>한약방</td>\n",
       "      <td>강원도</td>\n",
       "      <td>42110.0</td>\n",
       "      <td>...</td>\n",
       "      <td>강원도 춘천시 중앙로2가 99</td>\n",
       "      <td>421104454113</td>\n",
       "      <td>강원도 춘천시 낙원길</td>\n",
       "      <td>50</td>\n",
       "      <td>4211010500101000000023668</td>\n",
       "      <td>강원도 춘천시 낙원길 50</td>\n",
       "      <td>200042.0</td>\n",
       "      <td>24273.0</td>\n",
       "      <td>127.726905</td>\n",
       "      <td>37.880504</td>\n",
       "    </tr>\n",
       "    <tr>\n",
       "      <td>7</td>\n",
       "      <td>20582210</td>\n",
       "      <td>부부탕제원</td>\n",
       "      <td>S</td>\n",
       "      <td>의료</td>\n",
       "      <td>S02</td>\n",
       "      <td>약국/한약방</td>\n",
       "      <td>S02A03</td>\n",
       "      <td>탕제원</td>\n",
       "      <td>충청북도</td>\n",
       "      <td>43111.0</td>\n",
       "      <td>...</td>\n",
       "      <td>충청북도 청주시 상당구 금천동 187-17</td>\n",
       "      <td>431114508623</td>\n",
       "      <td>충청북도 청주시 상당구 중고개로337번길</td>\n",
       "      <td>134</td>\n",
       "      <td>4311112000101870017042942</td>\n",
       "      <td>충청북도 청주시 상당구 중고개로337번길 134</td>\n",
       "      <td>360802.0</td>\n",
       "      <td>28726.0</td>\n",
       "      <td>127.499206</td>\n",
       "      <td>36.625355</td>\n",
       "    </tr>\n",
       "    <tr>\n",
       "      <td>10</td>\n",
       "      <td>21057519</td>\n",
       "      <td>민생약국</td>\n",
       "      <td>S</td>\n",
       "      <td>의료</td>\n",
       "      <td>S02</td>\n",
       "      <td>약국/한약방</td>\n",
       "      <td>S02A01</td>\n",
       "      <td>약국</td>\n",
       "      <td>경상남도</td>\n",
       "      <td>48890.0</td>\n",
       "      <td>...</td>\n",
       "      <td>경상남도 합천군 용주면 월평리 78-2</td>\n",
       "      <td>488904844473</td>\n",
       "      <td>경상남도 합천군 용주면 월평길</td>\n",
       "      <td>149</td>\n",
       "      <td>4889046030200780002048274</td>\n",
       "      <td>경상남도 합천군 용주면 월평길 149-35</td>\n",
       "      <td>678912.0</td>\n",
       "      <td>50212.0</td>\n",
       "      <td>128.118615</td>\n",
       "      <td>35.575962</td>\n",
       "    </tr>\n",
       "    <tr>\n",
       "      <td>13</td>\n",
       "      <td>21217689</td>\n",
       "      <td>제중당한약방</td>\n",
       "      <td>S</td>\n",
       "      <td>의료</td>\n",
       "      <td>S02</td>\n",
       "      <td>약국/한약방</td>\n",
       "      <td>S02A02</td>\n",
       "      <td>한약방</td>\n",
       "      <td>전라남도</td>\n",
       "      <td>46830.0</td>\n",
       "      <td>...</td>\n",
       "      <td>전라남도 영암군 도포면 덕화리 296</td>\n",
       "      <td>468304685396</td>\n",
       "      <td>전라남도 영암군 도포면 인덕길</td>\n",
       "      <td>75</td>\n",
       "      <td>4683035023102960000000001</td>\n",
       "      <td>전라남도 영암군 도포면 인덕길 75-10</td>\n",
       "      <td>526832.0</td>\n",
       "      <td>58429.0</td>\n",
       "      <td>126.630348</td>\n",
       "      <td>34.834080</td>\n",
       "    </tr>\n",
       "    <tr>\n",
       "      <td>...</td>\n",
       "      <td>...</td>\n",
       "      <td>...</td>\n",
       "      <td>...</td>\n",
       "      <td>...</td>\n",
       "      <td>...</td>\n",
       "      <td>...</td>\n",
       "      <td>...</td>\n",
       "      <td>...</td>\n",
       "      <td>...</td>\n",
       "      <td>...</td>\n",
       "      <td>...</td>\n",
       "      <td>...</td>\n",
       "      <td>...</td>\n",
       "      <td>...</td>\n",
       "      <td>...</td>\n",
       "      <td>...</td>\n",
       "      <td>...</td>\n",
       "      <td>...</td>\n",
       "      <td>...</td>\n",
       "      <td>...</td>\n",
       "      <td>...</td>\n",
       "    </tr>\n",
       "    <tr>\n",
       "      <td>91312</td>\n",
       "      <td>16131397</td>\n",
       "      <td>큰나무약국</td>\n",
       "      <td>S</td>\n",
       "      <td>의료</td>\n",
       "      <td>S02</td>\n",
       "      <td>약국/한약방</td>\n",
       "      <td>S02A01</td>\n",
       "      <td>약국</td>\n",
       "      <td>경기도</td>\n",
       "      <td>41281.0</td>\n",
       "      <td>...</td>\n",
       "      <td>경기도 고양시 덕양구 성사동 700-11</td>\n",
       "      <td>412812192001</td>\n",
       "      <td>경기도 고양시 덕양구 고양대로</td>\n",
       "      <td>1361</td>\n",
       "      <td>4128110600107000011013834</td>\n",
       "      <td>경기도 고양시 덕양구 고양대로 1361</td>\n",
       "      <td>412807.0</td>\n",
       "      <td>10464.0</td>\n",
       "      <td>126.835684</td>\n",
       "      <td>37.655048</td>\n",
       "    </tr>\n",
       "    <tr>\n",
       "      <td>91321</td>\n",
       "      <td>16130841</td>\n",
       "      <td>복음약국</td>\n",
       "      <td>S</td>\n",
       "      <td>의료</td>\n",
       "      <td>S02</td>\n",
       "      <td>약국/한약방</td>\n",
       "      <td>S02A01</td>\n",
       "      <td>약국</td>\n",
       "      <td>대구광역시</td>\n",
       "      <td>27290.0</td>\n",
       "      <td>...</td>\n",
       "      <td>대구광역시 달서구 본동 276</td>\n",
       "      <td>272904241030</td>\n",
       "      <td>대구광역시 달서구 구마로36길</td>\n",
       "      <td>33</td>\n",
       "      <td>2729012400102760000029818</td>\n",
       "      <td>대구광역시 달서구 구마로36길 33</td>\n",
       "      <td>704752.0</td>\n",
       "      <td>42735.0</td>\n",
       "      <td>128.547352</td>\n",
       "      <td>35.836250</td>\n",
       "    </tr>\n",
       "    <tr>\n",
       "      <td>91322</td>\n",
       "      <td>16091491</td>\n",
       "      <td>설연화한복감성약방</td>\n",
       "      <td>S</td>\n",
       "      <td>의료</td>\n",
       "      <td>S02</td>\n",
       "      <td>약국/한약방</td>\n",
       "      <td>S02A01</td>\n",
       "      <td>약국</td>\n",
       "      <td>서울특별시</td>\n",
       "      <td>11260.0</td>\n",
       "      <td>...</td>\n",
       "      <td>서울특별시 중랑구 묵동 174-1</td>\n",
       "      <td>112603005050</td>\n",
       "      <td>서울특별시 중랑구 공릉로</td>\n",
       "      <td>28</td>\n",
       "      <td>1126010400101740001009985</td>\n",
       "      <td>서울특별시 중랑구 공릉로 28</td>\n",
       "      <td>131848.0</td>\n",
       "      <td>2034.0</td>\n",
       "      <td>127.078082</td>\n",
       "      <td>37.613194</td>\n",
       "    </tr>\n",
       "    <tr>\n",
       "      <td>91324</td>\n",
       "      <td>16109731</td>\n",
       "      <td>위례수약국</td>\n",
       "      <td>S</td>\n",
       "      <td>의료</td>\n",
       "      <td>S02</td>\n",
       "      <td>약국/한약방</td>\n",
       "      <td>S02A01</td>\n",
       "      <td>약국</td>\n",
       "      <td>경기도</td>\n",
       "      <td>41131.0</td>\n",
       "      <td>...</td>\n",
       "      <td>경기도 성남시 수정구 창곡동 559-4</td>\n",
       "      <td>411313350738</td>\n",
       "      <td>경기도 성남시 수정구 위례서일로</td>\n",
       "      <td>18</td>\n",
       "      <td>4113110800101810002000002</td>\n",
       "      <td>경기도 성남시 수정구 위례서일로 18</td>\n",
       "      <td>461210.0</td>\n",
       "      <td>13647.0</td>\n",
       "      <td>127.137870</td>\n",
       "      <td>37.465260</td>\n",
       "    </tr>\n",
       "    <tr>\n",
       "      <td>91330</td>\n",
       "      <td>16196725</td>\n",
       "      <td>온누리약국</td>\n",
       "      <td>S</td>\n",
       "      <td>의료</td>\n",
       "      <td>S02</td>\n",
       "      <td>약국/한약방</td>\n",
       "      <td>S02A01</td>\n",
       "      <td>약국</td>\n",
       "      <td>대전광역시</td>\n",
       "      <td>30170.0</td>\n",
       "      <td>...</td>\n",
       "      <td>대전광역시 서구 둔산동 1507</td>\n",
       "      <td>301703166026</td>\n",
       "      <td>대전광역시 서구 문예로</td>\n",
       "      <td>67</td>\n",
       "      <td>3017011200115070000021096</td>\n",
       "      <td>대전광역시 서구 문예로 67</td>\n",
       "      <td>302831.0</td>\n",
       "      <td>35240.0</td>\n",
       "      <td>127.389865</td>\n",
       "      <td>36.352728</td>\n",
       "    </tr>\n",
       "  </tbody>\n",
       "</table>\n",
       "<p>20923 rows × 29 columns</p>\n",
       "</div>"
      ],
      "text/plain": [
       "         상가업소번호        상호명 상권업종대분류코드 상권업종대분류명 상권업종중분류코드 상권업종중분류명 상권업종소분류코드  \\\n",
       "4      20364049  더블유스토어수지점         S       의료       S02   약국/한약방    S02A01   \n",
       "6      20733252      춘산한약방         S       의료       S02   약국/한약방    S02A02   \n",
       "7      20582210      부부탕제원         S       의료       S02   약국/한약방    S02A03   \n",
       "10     21057519       민생약국         S       의료       S02   약국/한약방    S02A01   \n",
       "13     21217689     제중당한약방         S       의료       S02   약국/한약방    S02A02   \n",
       "...         ...        ...       ...      ...       ...      ...       ...   \n",
       "91312  16131397      큰나무약국         S       의료       S02   약국/한약방    S02A01   \n",
       "91321  16130841       복음약국         S       의료       S02   약국/한약방    S02A01   \n",
       "91322  16091491  설연화한복감성약방         S       의료       S02   약국/한약방    S02A01   \n",
       "91324  16109731      위례수약국         S       의료       S02   약국/한약방    S02A01   \n",
       "91330  16196725      온누리약국         S       의료       S02   약국/한약방    S02A01   \n",
       "\n",
       "      상권업종소분류명    시도명    시군구코드  ...                     지번주소         도로명코드  \\\n",
       "4           약국    경기도  41465.0  ...   경기도 용인시 수지구 풍덕천동 712-2  414653205024   \n",
       "6          한약방    강원도  42110.0  ...         강원도 춘천시 중앙로2가 99  421104454113   \n",
       "7          탕제원   충청북도  43111.0  ...  충청북도 청주시 상당구 금천동 187-17  431114508623   \n",
       "10          약국   경상남도  48890.0  ...    경상남도 합천군 용주면 월평리 78-2  488904844473   \n",
       "13         한약방   전라남도  46830.0  ...     전라남도 영암군 도포면 덕화리 296  468304685396   \n",
       "...        ...    ...      ...  ...                      ...           ...   \n",
       "91312       약국    경기도  41281.0  ...   경기도 고양시 덕양구 성사동 700-11  412812192001   \n",
       "91321       약국  대구광역시  27290.0  ...         대구광역시 달서구 본동 276  272904241030   \n",
       "91322       약국  서울특별시  11260.0  ...       서울특별시 중랑구 묵동 174-1  112603005050   \n",
       "91324       약국    경기도  41131.0  ...    경기도 성남시 수정구 창곡동 559-4  411313350738   \n",
       "91330       약국  대전광역시  30170.0  ...        대전광역시 서구 둔산동 1507  301703166026   \n",
       "\n",
       "                          도로명  건물본번지                     건물관리번호  \\\n",
       "4             경기도 용인시 수지구 문정로     32  4146510100107120002026238   \n",
       "6                 강원도 춘천시 낙원길     50  4211010500101000000023668   \n",
       "7      충청북도 청주시 상당구 중고개로337번길    134  4311112000101870017042942   \n",
       "10           경상남도 합천군 용주면 월평길    149  4889046030200780002048274   \n",
       "13           전라남도 영암군 도포면 인덕길     75  4683035023102960000000001   \n",
       "...                       ...    ...                        ...   \n",
       "91312        경기도 고양시 덕양구 고양대로   1361  4128110600107000011013834   \n",
       "91321        대구광역시 달서구 구마로36길     33  2729012400102760000029818   \n",
       "91322           서울특별시 중랑구 공릉로     28  1126010400101740001009985   \n",
       "91324       경기도 성남시 수정구 위례서일로     18  4113110800101810002000002   \n",
       "91330            대전광역시 서구 문예로     67  3017011200115070000021096   \n",
       "\n",
       "                            도로명주소     구우편번호    신우편번호          경도         위도  \n",
       "4              경기도 용인시 수지구 문정로 32  448170.0  16837.0  127.095522  37.323528  \n",
       "6                  강원도 춘천시 낙원길 50  200042.0  24273.0  127.726905  37.880504  \n",
       "7      충청북도 청주시 상당구 중고개로337번길 134  360802.0  28726.0  127.499206  36.625355  \n",
       "10        경상남도 합천군 용주면 월평길 149-35  678912.0  50212.0  128.118615  35.575962  \n",
       "13         전라남도 영암군 도포면 인덕길 75-10  526832.0  58429.0  126.630348  34.834080  \n",
       "...                           ...       ...      ...         ...        ...  \n",
       "91312       경기도 고양시 덕양구 고양대로 1361  412807.0  10464.0  126.835684  37.655048  \n",
       "91321         대구광역시 달서구 구마로36길 33  704752.0  42735.0  128.547352  35.836250  \n",
       "91322            서울특별시 중랑구 공릉로 28  131848.0   2034.0  127.078082  37.613194  \n",
       "91324        경기도 성남시 수정구 위례서일로 18  461210.0  13647.0  127.137870  37.465260  \n",
       "91330             대전광역시 서구 문예로 67  302831.0  35240.0  127.389865  36.352728  \n",
       "\n",
       "[20923 rows x 29 columns]"
      ]
     },
     "execution_count": 148,
     "metadata": {},
     "output_type": "execute_result"
    }
   ],
   "source": [
    "# 원본에 영향가지않도록 카피함\n",
    "df_medical = df[df[\"상권업종중분류명\"] == \"약국/한약방\"].copy()\n",
    "df_medical"
   ]
  },
  {
   "cell_type": "code",
   "execution_count": 153,
   "metadata": {},
   "outputs": [
    {
     "data": {
      "text/plain": [
       "병원          60774\n",
       "약국/한약방      20923\n",
       "수의업          5323\n",
       "유사의료업        3774\n",
       "의료관련서비스업      541\n",
       "Name: 상권업종중분류명, dtype: int64"
      ]
     },
     "execution_count": 153,
     "metadata": {},
     "output_type": "execute_result"
    }
   ],
   "source": [
    "# \"상권업종대분류명\"에서 \"의료\"만 가져오기\n",
    "m = df[\"상권업종대분류명\"] == \"의료\"\n",
    "# df.loc는 행,열을 함께 가져올 수 있음\n",
    "df.loc[m,\"상권업종중분류명\"].value_counts()"
   ]
  },
  {
   "cell_type": "code",
   "execution_count": 156,
   "metadata": {},
   "outputs": [
    {
     "data": {
      "text/plain": [
       "(3774, 29)"
      ]
     },
     "execution_count": 156,
     "metadata": {},
     "output_type": "execute_result"
    }
   ],
   "source": [
    "# 위에서 유사의료업만 모아보기 > 건수찾기\n",
    "df[df[\"상권업종중분류명\"] == \"유사의료업\"].shape"
   ]
  },
  {
   "cell_type": "code",
   "execution_count": 161,
   "metadata": {},
   "outputs": [
    {
     "data": {
      "text/plain": [
       "리원       152\n",
       "온누리약국    149\n",
       "경희한의원    141\n",
       "우리약국     119\n",
       "중앙약국     111\n",
       "전자담배      98\n",
       "조은약국      95\n",
       "건강약국      87\n",
       "제일약국      79\n",
       "사랑약국      73\n",
       "Name: 상호명, dtype: int64"
      ]
     },
     "execution_count": 161,
     "metadata": {},
     "output_type": "execute_result"
    }
   ],
   "source": [
    "# 상호명 - 가장 많은 상호명 순위 10위까지만 가져오기\n",
    "df[\"상호명\"].value_counts().head(10)"
   ]
  },
  {
   "cell_type": "code",
   "execution_count": 163,
   "metadata": {},
   "outputs": [
    {
     "data": {
      "text/html": [
       "<div>\n",
       "<style scoped>\n",
       "    .dataframe tbody tr th:only-of-type {\n",
       "        vertical-align: middle;\n",
       "    }\n",
       "\n",
       "    .dataframe tbody tr th {\n",
       "        vertical-align: top;\n",
       "    }\n",
       "\n",
       "    .dataframe thead th {\n",
       "        text-align: right;\n",
       "    }\n",
       "</style>\n",
       "<table border=\"1\" class=\"dataframe\">\n",
       "  <thead>\n",
       "    <tr style=\"text-align: right;\">\n",
       "      <th></th>\n",
       "      <th>상가업소번호</th>\n",
       "      <th>상호명</th>\n",
       "      <th>상권업종대분류코드</th>\n",
       "      <th>상권업종대분류명</th>\n",
       "      <th>상권업종중분류코드</th>\n",
       "      <th>상권업종중분류명</th>\n",
       "      <th>상권업종소분류코드</th>\n",
       "      <th>상권업종소분류명</th>\n",
       "      <th>시도명</th>\n",
       "      <th>시군구코드</th>\n",
       "      <th>...</th>\n",
       "      <th>지번주소</th>\n",
       "      <th>도로명코드</th>\n",
       "      <th>도로명</th>\n",
       "      <th>건물본번지</th>\n",
       "      <th>건물관리번호</th>\n",
       "      <th>도로명주소</th>\n",
       "      <th>구우편번호</th>\n",
       "      <th>신우편번호</th>\n",
       "      <th>경도</th>\n",
       "      <th>위도</th>\n",
       "    </tr>\n",
       "  </thead>\n",
       "  <tbody>\n",
       "    <tr>\n",
       "      <td>22</td>\n",
       "      <td>21013731</td>\n",
       "      <td>세종언어치료센터</td>\n",
       "      <td>S</td>\n",
       "      <td>의료</td>\n",
       "      <td>S03</td>\n",
       "      <td>유사의료업</td>\n",
       "      <td>S03B07</td>\n",
       "      <td>언어치료</td>\n",
       "      <td>부산광역시</td>\n",
       "      <td>26410.0</td>\n",
       "      <td>...</td>\n",
       "      <td>부산광역시 금정구 구서동 84-1</td>\n",
       "      <td>264102000010</td>\n",
       "      <td>부산광역시 금정구 중앙대로</td>\n",
       "      <td>1817</td>\n",
       "      <td>2641010700100840001017686</td>\n",
       "      <td>부산광역시 금정구 중앙대로 1817-11</td>\n",
       "      <td>609310.0</td>\n",
       "      <td>46273.0</td>\n",
       "      <td>129.091662</td>\n",
       "      <td>35.246528</td>\n",
       "    </tr>\n",
       "    <tr>\n",
       "      <td>40</td>\n",
       "      <td>20933900</td>\n",
       "      <td>고려수지침학회</td>\n",
       "      <td>S</td>\n",
       "      <td>의료</td>\n",
       "      <td>S03</td>\n",
       "      <td>유사의료업</td>\n",
       "      <td>S03B03</td>\n",
       "      <td>침구원</td>\n",
       "      <td>경상남도</td>\n",
       "      <td>48123.0</td>\n",
       "      <td>...</td>\n",
       "      <td>경상남도 창원시 성산구 상남동 5-2</td>\n",
       "      <td>481234784088</td>\n",
       "      <td>경상남도 창원시 성산구 마디미로4번길</td>\n",
       "      <td>9</td>\n",
       "      <td>4812312700100050002026799</td>\n",
       "      <td>경상남도 창원시 성산구 마디미로4번길 9</td>\n",
       "      <td>642832.0</td>\n",
       "      <td>51495.0</td>\n",
       "      <td>128.684678</td>\n",
       "      <td>35.224113</td>\n",
       "    </tr>\n",
       "    <tr>\n",
       "      <td>97</td>\n",
       "      <td>21717820</td>\n",
       "      <td>청명원</td>\n",
       "      <td>S</td>\n",
       "      <td>의료</td>\n",
       "      <td>S03</td>\n",
       "      <td>유사의료업</td>\n",
       "      <td>S03B09</td>\n",
       "      <td>유사의료업기타</td>\n",
       "      <td>충청북도</td>\n",
       "      <td>43760.0</td>\n",
       "      <td>...</td>\n",
       "      <td>충청북도 괴산군 청안면 금신리 241</td>\n",
       "      <td>437604538132</td>\n",
       "      <td>충청북도 괴산군 청안면 금신로1길</td>\n",
       "      <td>93</td>\n",
       "      <td>4376037022102410000007293</td>\n",
       "      <td>충청북도 괴산군 청안면 금신로1길 93</td>\n",
       "      <td>367831.0</td>\n",
       "      <td>28050.0</td>\n",
       "      <td>127.635740</td>\n",
       "      <td>36.768935</td>\n",
       "    </tr>\n",
       "    <tr>\n",
       "      <td>102</td>\n",
       "      <td>21865854</td>\n",
       "      <td>응급환자이송센터</td>\n",
       "      <td>S</td>\n",
       "      <td>의료</td>\n",
       "      <td>S03</td>\n",
       "      <td>유사의료업</td>\n",
       "      <td>S03B01</td>\n",
       "      <td>응급구조대</td>\n",
       "      <td>대전광역시</td>\n",
       "      <td>30140.0</td>\n",
       "      <td>...</td>\n",
       "      <td>대전광역시 중구 대사동 248-237</td>\n",
       "      <td>301404295026</td>\n",
       "      <td>대전광역시 중구 계룡로921번길</td>\n",
       "      <td>40</td>\n",
       "      <td>3014011000102480237013097</td>\n",
       "      <td>대전광역시 중구 계룡로921번길 40</td>\n",
       "      <td>301846.0</td>\n",
       "      <td>34946.0</td>\n",
       "      <td>127.417693</td>\n",
       "      <td>36.321801</td>\n",
       "    </tr>\n",
       "    <tr>\n",
       "      <td>108</td>\n",
       "      <td>21914637</td>\n",
       "      <td>태화아동발달지원센터</td>\n",
       "      <td>S</td>\n",
       "      <td>의료</td>\n",
       "      <td>S03</td>\n",
       "      <td>유사의료업</td>\n",
       "      <td>S03B07</td>\n",
       "      <td>언어치료</td>\n",
       "      <td>대전광역시</td>\n",
       "      <td>30140.0</td>\n",
       "      <td>...</td>\n",
       "      <td>대전광역시 중구 문화동 27</td>\n",
       "      <td>301404295402</td>\n",
       "      <td>대전광역시 중구 보문산로333번길</td>\n",
       "      <td>29</td>\n",
       "      <td>3014011600100270000008172</td>\n",
       "      <td>대전광역시 중구 보문산로333번길 29</td>\n",
       "      <td>301130.0</td>\n",
       "      <td>35020.0</td>\n",
       "      <td>127.412725</td>\n",
       "      <td>36.312953</td>\n",
       "    </tr>\n",
       "    <tr>\n",
       "      <td>...</td>\n",
       "      <td>...</td>\n",
       "      <td>...</td>\n",
       "      <td>...</td>\n",
       "      <td>...</td>\n",
       "      <td>...</td>\n",
       "      <td>...</td>\n",
       "      <td>...</td>\n",
       "      <td>...</td>\n",
       "      <td>...</td>\n",
       "      <td>...</td>\n",
       "      <td>...</td>\n",
       "      <td>...</td>\n",
       "      <td>...</td>\n",
       "      <td>...</td>\n",
       "      <td>...</td>\n",
       "      <td>...</td>\n",
       "      <td>...</td>\n",
       "      <td>...</td>\n",
       "      <td>...</td>\n",
       "      <td>...</td>\n",
       "      <td>...</td>\n",
       "    </tr>\n",
       "    <tr>\n",
       "      <td>91300</td>\n",
       "      <td>16131218</td>\n",
       "      <td>으뜸치과기공소</td>\n",
       "      <td>S</td>\n",
       "      <td>의료</td>\n",
       "      <td>S03</td>\n",
       "      <td>유사의료업</td>\n",
       "      <td>S03B06</td>\n",
       "      <td>치과기공소</td>\n",
       "      <td>경상남도</td>\n",
       "      <td>48170.0</td>\n",
       "      <td>...</td>\n",
       "      <td>경상남도 진주시 수정동 39-11</td>\n",
       "      <td>481704797625</td>\n",
       "      <td>경상남도 진주시 향교로18번길</td>\n",
       "      <td>8</td>\n",
       "      <td>4817011600100390011004490</td>\n",
       "      <td>경상남도 진주시 향교로18번길 8</td>\n",
       "      <td>660180.0</td>\n",
       "      <td>52753.0</td>\n",
       "      <td>128.084600</td>\n",
       "      <td>35.197029</td>\n",
       "    </tr>\n",
       "    <tr>\n",
       "      <td>91310</td>\n",
       "      <td>16199325</td>\n",
       "      <td>보령치과기공소</td>\n",
       "      <td>S</td>\n",
       "      <td>의료</td>\n",
       "      <td>S03</td>\n",
       "      <td>유사의료업</td>\n",
       "      <td>S03B06</td>\n",
       "      <td>치과기공소</td>\n",
       "      <td>서울특별시</td>\n",
       "      <td>11290.0</td>\n",
       "      <td>...</td>\n",
       "      <td>서울특별시 성북구 동소문동4가 103-11</td>\n",
       "      <td>112903107003</td>\n",
       "      <td>서울특별시 성북구 동소문로</td>\n",
       "      <td>47</td>\n",
       "      <td>1129010700101030014050661</td>\n",
       "      <td>서울특별시 성북구 동소문로 47-15</td>\n",
       "      <td>136821.0</td>\n",
       "      <td>2832.0</td>\n",
       "      <td>127.010602</td>\n",
       "      <td>37.591455</td>\n",
       "    </tr>\n",
       "    <tr>\n",
       "      <td>91311</td>\n",
       "      <td>16199088</td>\n",
       "      <td>점프셈교실</td>\n",
       "      <td>S</td>\n",
       "      <td>의료</td>\n",
       "      <td>S03</td>\n",
       "      <td>유사의료업</td>\n",
       "      <td>S03B09</td>\n",
       "      <td>유사의료업기타</td>\n",
       "      <td>경상북도</td>\n",
       "      <td>47130.0</td>\n",
       "      <td>...</td>\n",
       "      <td>경상북도 경주시 황성동 446</td>\n",
       "      <td>471304715895</td>\n",
       "      <td>경상북도 경주시 용담로104번길</td>\n",
       "      <td>16</td>\n",
       "      <td>4713012400104460000024894</td>\n",
       "      <td>경상북도 경주시 용담로104번길 16</td>\n",
       "      <td>780954.0</td>\n",
       "      <td>38084.0</td>\n",
       "      <td>129.211755</td>\n",
       "      <td>35.865600</td>\n",
       "    </tr>\n",
       "    <tr>\n",
       "      <td>91319</td>\n",
       "      <td>16108560</td>\n",
       "      <td>씨앤디자인치과기공소</td>\n",
       "      <td>S</td>\n",
       "      <td>의료</td>\n",
       "      <td>S03</td>\n",
       "      <td>유사의료업</td>\n",
       "      <td>S03B06</td>\n",
       "      <td>치과기공소</td>\n",
       "      <td>서울특별시</td>\n",
       "      <td>11545.0</td>\n",
       "      <td>...</td>\n",
       "      <td>서울특별시 금천구 가산동 60-25</td>\n",
       "      <td>115453116013</td>\n",
       "      <td>서울특별시 금천구 벚꽃로</td>\n",
       "      <td>234</td>\n",
       "      <td>1154510100100600025000001</td>\n",
       "      <td>서울특별시 금천구 벚꽃로 234</td>\n",
       "      <td>153798.0</td>\n",
       "      <td>8513.0</td>\n",
       "      <td>126.886122</td>\n",
       "      <td>37.475986</td>\n",
       "    </tr>\n",
       "    <tr>\n",
       "      <td>91327</td>\n",
       "      <td>16190388</td>\n",
       "      <td>오피스알파</td>\n",
       "      <td>S</td>\n",
       "      <td>의료</td>\n",
       "      <td>S03</td>\n",
       "      <td>유사의료업</td>\n",
       "      <td>S03B06</td>\n",
       "      <td>치과기공소</td>\n",
       "      <td>경기도</td>\n",
       "      <td>41173.0</td>\n",
       "      <td>...</td>\n",
       "      <td>경기도 안양시 동안구 호계동 970-24</td>\n",
       "      <td>411734349013</td>\n",
       "      <td>경기도 안양시 동안구 경수대로507번길</td>\n",
       "      <td>28</td>\n",
       "      <td>4117310400109700024005182</td>\n",
       "      <td>경기도 안양시 동안구 경수대로507번길 28</td>\n",
       "      <td>431849.0</td>\n",
       "      <td>14120.0</td>\n",
       "      <td>126.956365</td>\n",
       "      <td>37.367779</td>\n",
       "    </tr>\n",
       "  </tbody>\n",
       "</table>\n",
       "<p>3774 rows × 29 columns</p>\n",
       "</div>"
      ],
      "text/plain": [
       "         상가업소번호         상호명 상권업종대분류코드 상권업종대분류명 상권업종중분류코드 상권업종중분류명 상권업종소분류코드  \\\n",
       "22     21013731    세종언어치료센터         S       의료       S03    유사의료업    S03B07   \n",
       "40     20933900     고려수지침학회         S       의료       S03    유사의료업    S03B03   \n",
       "97     21717820         청명원         S       의료       S03    유사의료업    S03B09   \n",
       "102    21865854    응급환자이송센터         S       의료       S03    유사의료업    S03B01   \n",
       "108    21914637  태화아동발달지원센터         S       의료       S03    유사의료업    S03B07   \n",
       "...         ...         ...       ...      ...       ...      ...       ...   \n",
       "91300  16131218     으뜸치과기공소         S       의료       S03    유사의료업    S03B06   \n",
       "91310  16199325     보령치과기공소         S       의료       S03    유사의료업    S03B06   \n",
       "91311  16199088       점프셈교실         S       의료       S03    유사의료업    S03B09   \n",
       "91319  16108560  씨앤디자인치과기공소         S       의료       S03    유사의료업    S03B06   \n",
       "91327  16190388       오피스알파         S       의료       S03    유사의료업    S03B06   \n",
       "\n",
       "      상권업종소분류명    시도명    시군구코드  ...                     지번주소         도로명코드  \\\n",
       "22        언어치료  부산광역시  26410.0  ...       부산광역시 금정구 구서동 84-1  264102000010   \n",
       "40         침구원   경상남도  48123.0  ...     경상남도 창원시 성산구 상남동 5-2  481234784088   \n",
       "97     유사의료업기타   충청북도  43760.0  ...     충청북도 괴산군 청안면 금신리 241  437604538132   \n",
       "102      응급구조대  대전광역시  30140.0  ...     대전광역시 중구 대사동 248-237  301404295026   \n",
       "108       언어치료  대전광역시  30140.0  ...          대전광역시 중구 문화동 27  301404295402   \n",
       "...        ...    ...      ...  ...                      ...           ...   \n",
       "91300    치과기공소   경상남도  48170.0  ...       경상남도 진주시 수정동 39-11  481704797625   \n",
       "91310    치과기공소  서울특별시  11290.0  ...  서울특별시 성북구 동소문동4가 103-11  112903107003   \n",
       "91311  유사의료업기타   경상북도  47130.0  ...         경상북도 경주시 황성동 446  471304715895   \n",
       "91319    치과기공소  서울특별시  11545.0  ...      서울특별시 금천구 가산동 60-25  115453116013   \n",
       "91327    치과기공소    경기도  41173.0  ...   경기도 안양시 동안구 호계동 970-24  411734349013   \n",
       "\n",
       "                         도로명  건물본번지                     건물관리번호  \\\n",
       "22            부산광역시 금정구 중앙대로   1817  2641010700100840001017686   \n",
       "40      경상남도 창원시 성산구 마디미로4번길      9  4812312700100050002026799   \n",
       "97        충청북도 괴산군 청안면 금신로1길     93  4376037022102410000007293   \n",
       "102        대전광역시 중구 계룡로921번길     40  3014011000102480237013097   \n",
       "108       대전광역시 중구 보문산로333번길     29  3014011600100270000008172   \n",
       "...                      ...    ...                        ...   \n",
       "91300       경상남도 진주시 향교로18번길      8  4817011600100390011004490   \n",
       "91310         서울특별시 성북구 동소문로     47  1129010700101030014050661   \n",
       "91311      경상북도 경주시 용담로104번길     16  4713012400104460000024894   \n",
       "91319          서울특별시 금천구 벚꽃로    234  1154510100100600025000001   \n",
       "91327  경기도 안양시 동안구 경수대로507번길     28  4117310400109700024005182   \n",
       "\n",
       "                          도로명주소     구우편번호    신우편번호          경도         위도  \n",
       "22       부산광역시 금정구 중앙대로 1817-11  609310.0  46273.0  129.091662  35.246528  \n",
       "40       경상남도 창원시 성산구 마디미로4번길 9  642832.0  51495.0  128.684678  35.224113  \n",
       "97        충청북도 괴산군 청안면 금신로1길 93  367831.0  28050.0  127.635740  36.768935  \n",
       "102        대전광역시 중구 계룡로921번길 40  301846.0  34946.0  127.417693  36.321801  \n",
       "108       대전광역시 중구 보문산로333번길 29  301130.0  35020.0  127.412725  36.312953  \n",
       "...                         ...       ...      ...         ...        ...  \n",
       "91300        경상남도 진주시 향교로18번길 8  660180.0  52753.0  128.084600  35.197029  \n",
       "91310      서울특별시 성북구 동소문로 47-15  136821.0   2832.0  127.010602  37.591455  \n",
       "91311      경상북도 경주시 용담로104번길 16  780954.0  38084.0  129.211755  35.865600  \n",
       "91319         서울특별시 금천구 벚꽃로 234  153798.0   8513.0  126.886122  37.475986  \n",
       "91327  경기도 안양시 동안구 경수대로507번길 28  431849.0  14120.0  126.956365  37.367779  \n",
       "\n",
       "[3774 rows x 29 columns]"
      ]
     },
     "execution_count": 163,
     "metadata": {},
     "output_type": "execute_result"
    }
   ],
   "source": [
    "# 유사의료업\n",
    "df_medi = df[df[\"상권업종중분류명\"] == \"유사의료업\"]\n",
    "df_medi"
   ]
  },
  {
   "cell_type": "code",
   "execution_count": 168,
   "metadata": {},
   "outputs": [
    {
     "data": {
      "text/plain": [
       "리원          32\n",
       "고려수지침       22\n",
       "대한적십자사      17\n",
       "헌혈의집        12\n",
       "고려수지침학회     10\n",
       "수치과기공소      10\n",
       "제일치과기공소      9\n",
       "스마일치과기공소     8\n",
       "어울림치과기공소     8\n",
       "미소치과기공소      8\n",
       "Name: 상호명, dtype: int64"
      ]
     },
     "execution_count": 168,
     "metadata": {},
     "output_type": "execute_result"
    }
   ],
   "source": [
    "# 유사의료업에서 가장 많이 사용하는 상호명 top 10\n",
    "df_medi[\"상호명\"].value_counts().head(10)"
   ]
  },
  {
   "cell_type": "markdown",
   "metadata": {},
   "source": [
    "* 여러 조건으로 색인하기"
   ]
  },
  {
   "cell_type": "code",
   "execution_count": 174,
   "metadata": {},
   "outputs": [
    {
     "name": "stdout",
     "output_type": "stream",
     "text": [
      "(3579, 29)\n"
     ]
    },
    {
     "data": {
      "text/html": [
       "<div>\n",
       "<style scoped>\n",
       "    .dataframe tbody tr th:only-of-type {\n",
       "        vertical-align: middle;\n",
       "    }\n",
       "\n",
       "    .dataframe tbody tr th {\n",
       "        vertical-align: top;\n",
       "    }\n",
       "\n",
       "    .dataframe thead th {\n",
       "        text-align: right;\n",
       "    }\n",
       "</style>\n",
       "<table border=\"1\" class=\"dataframe\">\n",
       "  <thead>\n",
       "    <tr style=\"text-align: right;\">\n",
       "      <th></th>\n",
       "      <th>상가업소번호</th>\n",
       "      <th>상호명</th>\n",
       "      <th>상권업종대분류코드</th>\n",
       "      <th>상권업종대분류명</th>\n",
       "      <th>상권업종중분류코드</th>\n",
       "      <th>상권업종중분류명</th>\n",
       "      <th>상권업종소분류코드</th>\n",
       "      <th>상권업종소분류명</th>\n",
       "      <th>시도명</th>\n",
       "      <th>시군구코드</th>\n",
       "      <th>...</th>\n",
       "      <th>지번주소</th>\n",
       "      <th>도로명코드</th>\n",
       "      <th>도로명</th>\n",
       "      <th>건물본번지</th>\n",
       "      <th>건물관리번호</th>\n",
       "      <th>도로명주소</th>\n",
       "      <th>구우편번호</th>\n",
       "      <th>신우편번호</th>\n",
       "      <th>경도</th>\n",
       "      <th>위도</th>\n",
       "    </tr>\n",
       "  </thead>\n",
       "  <tbody>\n",
       "    <tr>\n",
       "      <td>33</td>\n",
       "      <td>20816709</td>\n",
       "      <td>이즈타워약</td>\n",
       "      <td>S</td>\n",
       "      <td>의료</td>\n",
       "      <td>S02</td>\n",
       "      <td>약국/한약방</td>\n",
       "      <td>S02A01</td>\n",
       "      <td>약국</td>\n",
       "      <td>서울특별시</td>\n",
       "      <td>11680.0</td>\n",
       "      <td>...</td>\n",
       "      <td>서울특별시 강남구 역삼동 821</td>\n",
       "      <td>116803122010</td>\n",
       "      <td>서울특별시 강남구 테헤란로</td>\n",
       "      <td>101</td>\n",
       "      <td>1168010100108210001000001</td>\n",
       "      <td>서울특별시 강남구 테헤란로 101</td>\n",
       "      <td>135080.0</td>\n",
       "      <td>6134.0</td>\n",
       "      <td>127.028023</td>\n",
       "      <td>37.498656</td>\n",
       "    </tr>\n",
       "    <tr>\n",
       "      <td>51</td>\n",
       "      <td>20855710</td>\n",
       "      <td>진흥약국</td>\n",
       "      <td>S</td>\n",
       "      <td>의료</td>\n",
       "      <td>S02</td>\n",
       "      <td>약국/한약방</td>\n",
       "      <td>S02A01</td>\n",
       "      <td>약국</td>\n",
       "      <td>서울특별시</td>\n",
       "      <td>11740.0</td>\n",
       "      <td>...</td>\n",
       "      <td>서울특별시 강동구 둔촌동 630</td>\n",
       "      <td>117403124002</td>\n",
       "      <td>서울특별시 강동구 명일로</td>\n",
       "      <td>172</td>\n",
       "      <td>1174010600106090000000001</td>\n",
       "      <td>서울특별시 강동구 명일로 172</td>\n",
       "      <td>134767.0</td>\n",
       "      <td>5360.0</td>\n",
       "      <td>127.145055</td>\n",
       "      <td>37.534135</td>\n",
       "    </tr>\n",
       "    <tr>\n",
       "      <td>130</td>\n",
       "      <td>21589838</td>\n",
       "      <td>신세계약국</td>\n",
       "      <td>S</td>\n",
       "      <td>의료</td>\n",
       "      <td>S02</td>\n",
       "      <td>약국/한약방</td>\n",
       "      <td>S02A01</td>\n",
       "      <td>약국</td>\n",
       "      <td>서울특별시</td>\n",
       "      <td>11260.0</td>\n",
       "      <td>...</td>\n",
       "      <td>서울특별시 중랑구 신내동 646</td>\n",
       "      <td>112603106007</td>\n",
       "      <td>서울특별시 중랑구 신내로</td>\n",
       "      <td>211</td>\n",
       "      <td>1126010600106460000000300</td>\n",
       "      <td>서울특별시 중랑구 신내로 211</td>\n",
       "      <td>131130.0</td>\n",
       "      <td>2024.0</td>\n",
       "      <td>127.092597</td>\n",
       "      <td>37.616424</td>\n",
       "    </tr>\n",
       "    <tr>\n",
       "      <td>136</td>\n",
       "      <td>22388303</td>\n",
       "      <td>메디팜한솔약국</td>\n",
       "      <td>S</td>\n",
       "      <td>의료</td>\n",
       "      <td>S02</td>\n",
       "      <td>약국/한약방</td>\n",
       "      <td>S02A01</td>\n",
       "      <td>약국</td>\n",
       "      <td>서울특별시</td>\n",
       "      <td>11200.0</td>\n",
       "      <td>...</td>\n",
       "      <td>서울특별시 성동구 행당동 346</td>\n",
       "      <td>112003103006</td>\n",
       "      <td>서울특별시 성동구 행당로</td>\n",
       "      <td>82</td>\n",
       "      <td>1120010700103460012016935</td>\n",
       "      <td>서울특별시 성동구 행당로 82</td>\n",
       "      <td>133777.0</td>\n",
       "      <td>4717.0</td>\n",
       "      <td>127.027513</td>\n",
       "      <td>37.556238</td>\n",
       "    </tr>\n",
       "    <tr>\n",
       "      <td>141</td>\n",
       "      <td>22412563</td>\n",
       "      <td>명약국</td>\n",
       "      <td>S</td>\n",
       "      <td>의료</td>\n",
       "      <td>S02</td>\n",
       "      <td>약국/한약방</td>\n",
       "      <td>S02A01</td>\n",
       "      <td>약국</td>\n",
       "      <td>서울특별시</td>\n",
       "      <td>11230.0</td>\n",
       "      <td>...</td>\n",
       "      <td>서울특별시 동대문구 휘경동 286-121</td>\n",
       "      <td>112304115120</td>\n",
       "      <td>서울특별시 동대문구 망우로18나길</td>\n",
       "      <td>3</td>\n",
       "      <td>1123010900102860121007257</td>\n",
       "      <td>서울특별시 동대문구 망우로18나길 3</td>\n",
       "      <td>130090.0</td>\n",
       "      <td>2498.0</td>\n",
       "      <td>127.060556</td>\n",
       "      <td>37.587349</td>\n",
       "    </tr>\n",
       "    <tr>\n",
       "      <td>...</td>\n",
       "      <td>...</td>\n",
       "      <td>...</td>\n",
       "      <td>...</td>\n",
       "      <td>...</td>\n",
       "      <td>...</td>\n",
       "      <td>...</td>\n",
       "      <td>...</td>\n",
       "      <td>...</td>\n",
       "      <td>...</td>\n",
       "      <td>...</td>\n",
       "      <td>...</td>\n",
       "      <td>...</td>\n",
       "      <td>...</td>\n",
       "      <td>...</td>\n",
       "      <td>...</td>\n",
       "      <td>...</td>\n",
       "      <td>...</td>\n",
       "      <td>...</td>\n",
       "      <td>...</td>\n",
       "      <td>...</td>\n",
       "      <td>...</td>\n",
       "    </tr>\n",
       "    <tr>\n",
       "      <td>91239</td>\n",
       "      <td>16131547</td>\n",
       "      <td>우리이웃약국</td>\n",
       "      <td>S</td>\n",
       "      <td>의료</td>\n",
       "      <td>S02</td>\n",
       "      <td>약국/한약방</td>\n",
       "      <td>S02A01</td>\n",
       "      <td>약국</td>\n",
       "      <td>서울특별시</td>\n",
       "      <td>11290.0</td>\n",
       "      <td>...</td>\n",
       "      <td>서울특별시 성북구 종암동 34-3</td>\n",
       "      <td>112904121682</td>\n",
       "      <td>서울특별시 성북구 종암로5길</td>\n",
       "      <td>26</td>\n",
       "      <td>1129013500100340003022753</td>\n",
       "      <td>서울특별시 성북구 종암로5길 26</td>\n",
       "      <td>136769.0</td>\n",
       "      <td>2811.0</td>\n",
       "      <td>127.033908</td>\n",
       "      <td>37.594792</td>\n",
       "    </tr>\n",
       "    <tr>\n",
       "      <td>91275</td>\n",
       "      <td>16195709</td>\n",
       "      <td>더블유스토어</td>\n",
       "      <td>S</td>\n",
       "      <td>의료</td>\n",
       "      <td>S02</td>\n",
       "      <td>약국/한약방</td>\n",
       "      <td>S02A01</td>\n",
       "      <td>약국</td>\n",
       "      <td>서울특별시</td>\n",
       "      <td>11530.0</td>\n",
       "      <td>...</td>\n",
       "      <td>서울특별시 구로구 구로동 501</td>\n",
       "      <td>115303116005</td>\n",
       "      <td>서울특별시 구로구 구로중앙로</td>\n",
       "      <td>134</td>\n",
       "      <td>1153010200105010000000001</td>\n",
       "      <td>서울특별시 구로구 구로중앙로 134</td>\n",
       "      <td>152731.0</td>\n",
       "      <td>8293.0</td>\n",
       "      <td>126.884285</td>\n",
       "      <td>37.499936</td>\n",
       "    </tr>\n",
       "    <tr>\n",
       "      <td>91288</td>\n",
       "      <td>16131839</td>\n",
       "      <td>종각팜약국</td>\n",
       "      <td>S</td>\n",
       "      <td>의료</td>\n",
       "      <td>S02</td>\n",
       "      <td>약국/한약방</td>\n",
       "      <td>S02A01</td>\n",
       "      <td>약국</td>\n",
       "      <td>서울특별시</td>\n",
       "      <td>11110.0</td>\n",
       "      <td>...</td>\n",
       "      <td>서울특별시 종로구 종로2가 84-8</td>\n",
       "      <td>111103100013</td>\n",
       "      <td>서울특별시 종로구 종로</td>\n",
       "      <td>68</td>\n",
       "      <td>1111013800100160006014311</td>\n",
       "      <td>서울특별시 종로구 종로 68</td>\n",
       "      <td>110122.0</td>\n",
       "      <td>3189.0</td>\n",
       "      <td>126.984930</td>\n",
       "      <td>37.569882</td>\n",
       "    </tr>\n",
       "    <tr>\n",
       "      <td>91301</td>\n",
       "      <td>16188650</td>\n",
       "      <td>온누리약국</td>\n",
       "      <td>S</td>\n",
       "      <td>의료</td>\n",
       "      <td>S02</td>\n",
       "      <td>약국/한약방</td>\n",
       "      <td>S02A01</td>\n",
       "      <td>약국</td>\n",
       "      <td>서울특별시</td>\n",
       "      <td>11530.0</td>\n",
       "      <td>...</td>\n",
       "      <td>서울특별시 구로구 구로동 798-30</td>\n",
       "      <td>115304148329</td>\n",
       "      <td>서울특별시 구로구 디지털로27길</td>\n",
       "      <td>116</td>\n",
       "      <td>1153010200107980032000001</td>\n",
       "      <td>서울특별시 구로구 디지털로27길 116</td>\n",
       "      <td>152875.0</td>\n",
       "      <td>8374.0</td>\n",
       "      <td>126.888070</td>\n",
       "      <td>37.484897</td>\n",
       "    </tr>\n",
       "    <tr>\n",
       "      <td>91322</td>\n",
       "      <td>16091491</td>\n",
       "      <td>설연화한복감성약방</td>\n",
       "      <td>S</td>\n",
       "      <td>의료</td>\n",
       "      <td>S02</td>\n",
       "      <td>약국/한약방</td>\n",
       "      <td>S02A01</td>\n",
       "      <td>약국</td>\n",
       "      <td>서울특별시</td>\n",
       "      <td>11260.0</td>\n",
       "      <td>...</td>\n",
       "      <td>서울특별시 중랑구 묵동 174-1</td>\n",
       "      <td>112603005050</td>\n",
       "      <td>서울특별시 중랑구 공릉로</td>\n",
       "      <td>28</td>\n",
       "      <td>1126010400101740001009985</td>\n",
       "      <td>서울특별시 중랑구 공릉로 28</td>\n",
       "      <td>131848.0</td>\n",
       "      <td>2034.0</td>\n",
       "      <td>127.078082</td>\n",
       "      <td>37.613194</td>\n",
       "    </tr>\n",
       "  </tbody>\n",
       "</table>\n",
       "<p>3579 rows × 29 columns</p>\n",
       "</div>"
      ],
      "text/plain": [
       "         상가업소번호        상호명 상권업종대분류코드 상권업종대분류명 상권업종중분류코드 상권업종중분류명 상권업종소분류코드  \\\n",
       "33     20816709      이즈타워약         S       의료       S02   약국/한약방    S02A01   \n",
       "51     20855710       진흥약국         S       의료       S02   약국/한약방    S02A01   \n",
       "130    21589838      신세계약국         S       의료       S02   약국/한약방    S02A01   \n",
       "136    22388303    메디팜한솔약국         S       의료       S02   약국/한약방    S02A01   \n",
       "141    22412563        명약국         S       의료       S02   약국/한약방    S02A01   \n",
       "...         ...        ...       ...      ...       ...      ...       ...   \n",
       "91239  16131547     우리이웃약국         S       의료       S02   약국/한약방    S02A01   \n",
       "91275  16195709     더블유스토어         S       의료       S02   약국/한약방    S02A01   \n",
       "91288  16131839      종각팜약국         S       의료       S02   약국/한약방    S02A01   \n",
       "91301  16188650      온누리약국         S       의료       S02   약국/한약방    S02A01   \n",
       "91322  16091491  설연화한복감성약방         S       의료       S02   약국/한약방    S02A01   \n",
       "\n",
       "      상권업종소분류명    시도명    시군구코드  ...                    지번주소         도로명코드  \\\n",
       "33          약국  서울특별시  11680.0  ...       서울특별시 강남구 역삼동 821  116803122010   \n",
       "51          약국  서울특별시  11740.0  ...       서울특별시 강동구 둔촌동 630  117403124002   \n",
       "130         약국  서울특별시  11260.0  ...       서울특별시 중랑구 신내동 646  112603106007   \n",
       "136         약국  서울특별시  11200.0  ...       서울특별시 성동구 행당동 346  112003103006   \n",
       "141         약국  서울특별시  11230.0  ...  서울특별시 동대문구 휘경동 286-121  112304115120   \n",
       "...        ...    ...      ...  ...                     ...           ...   \n",
       "91239       약국  서울특별시  11290.0  ...      서울특별시 성북구 종암동 34-3  112904121682   \n",
       "91275       약국  서울특별시  11530.0  ...       서울특별시 구로구 구로동 501  115303116005   \n",
       "91288       약국  서울특별시  11110.0  ...     서울특별시 종로구 종로2가 84-8  111103100013   \n",
       "91301       약국  서울특별시  11530.0  ...    서울특별시 구로구 구로동 798-30  115304148329   \n",
       "91322       약국  서울특별시  11260.0  ...      서울특별시 중랑구 묵동 174-1  112603005050   \n",
       "\n",
       "                      도로명  건물본번지                     건물관리번호  \\\n",
       "33         서울특별시 강남구 테헤란로    101  1168010100108210001000001   \n",
       "51          서울특별시 강동구 명일로    172  1174010600106090000000001   \n",
       "130         서울특별시 중랑구 신내로    211  1126010600106460000000300   \n",
       "136         서울특별시 성동구 행당로     82  1120010700103460012016935   \n",
       "141    서울특별시 동대문구 망우로18나길      3  1123010900102860121007257   \n",
       "...                   ...    ...                        ...   \n",
       "91239     서울특별시 성북구 종암로5길     26  1129013500100340003022753   \n",
       "91275     서울특별시 구로구 구로중앙로    134  1153010200105010000000001   \n",
       "91288        서울특별시 종로구 종로     68  1111013800100160006014311   \n",
       "91301   서울특별시 구로구 디지털로27길    116  1153010200107980032000001   \n",
       "91322       서울특별시 중랑구 공릉로     28  1126010400101740001009985   \n",
       "\n",
       "                       도로명주소     구우편번호   신우편번호          경도         위도  \n",
       "33        서울특별시 강남구 테헤란로 101  135080.0  6134.0  127.028023  37.498656  \n",
       "51         서울특별시 강동구 명일로 172  134767.0  5360.0  127.145055  37.534135  \n",
       "130        서울특별시 중랑구 신내로 211  131130.0  2024.0  127.092597  37.616424  \n",
       "136         서울특별시 성동구 행당로 82  133777.0  4717.0  127.027513  37.556238  \n",
       "141     서울특별시 동대문구 망우로18나길 3  130090.0  2498.0  127.060556  37.587349  \n",
       "...                      ...       ...     ...         ...        ...  \n",
       "91239     서울특별시 성북구 종암로5길 26  136769.0  2811.0  127.033908  37.594792  \n",
       "91275    서울특별시 구로구 구로중앙로 134  152731.0  8293.0  126.884285  37.499936  \n",
       "91288        서울특별시 종로구 종로 68  110122.0  3189.0  126.984930  37.569882  \n",
       "91301  서울특별시 구로구 디지털로27길 116  152875.0  8374.0  126.888070  37.484897  \n",
       "91322       서울특별시 중랑구 공릉로 28  131848.0  2034.0  127.078082  37.613194  \n",
       "\n",
       "[3579 rows x 29 columns]"
      ]
     },
     "execution_count": 174,
     "metadata": {},
     "output_type": "execute_result"
    }
   ],
   "source": [
    "# 서울시에 위치한 약국만 모으기\n",
    "# 판다스의 and는 &로 표기\n",
    "# 연산우선순위를 위해 괄호를 표기\n",
    "df_seoul_drug = df[(df[\"상권업종소분류명\"] == \"약국\") & (df[\"시도명\"] == \"서울특별시\")]\n",
    "print(df_seoul_drug.shape) # print구문을 사용하면 중간 과정도 출력해볼 수 있다.\n",
    "df_seoul_drug"
   ]
  }
 ],
 "metadata": {
  "kernelspec": {
   "display_name": "Python 3",
   "language": "python",
   "name": "python3"
  },
  "language_info": {
   "codemirror_mode": {
    "name": "ipython",
    "version": 3
   },
   "file_extension": ".py",
   "mimetype": "text/x-python",
   "name": "python",
   "nbconvert_exporter": "python",
   "pygments_lexer": "ipython3",
   "version": "3.7.4"
  }
 },
 "nbformat": 4,
 "nbformat_minor": 2
}
